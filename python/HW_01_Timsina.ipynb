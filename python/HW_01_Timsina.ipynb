{
 "cells": [
  {
   "cell_type": "markdown",
   "id": "5ed1f3c7",
   "metadata": {},
   "source": [
    "# DSCI 503 - Homework 01\n",
    "### Pradeep K Timsina"
   ]
  },
  {
   "cell_type": "markdown",
   "id": "15c19723",
   "metadata": {},
   "source": [
    "### Problem 1: Arithmetic and Geometric Means"
   ]
  },
  {
   "cell_type": "code",
   "execution_count": 1,
   "id": "a6820ca0",
   "metadata": {},
   "outputs": [
    {
     "name": "stdout",
     "output_type": "stream",
     "text": [
      "sum:\t\t\t59\n",
      "product:\t\t42636\n",
      "Arithmetic Mean:\t14.75\n",
      "Geometric Mean:\t\t14.37\n"
     ]
    }
   ],
   "source": [
    "x0 = 11\n",
    "x1 = 12\n",
    "x2 = 17\n",
    "x3 = 19\n",
    "total = x0 + x1 + x2 + x3\n",
    "product = x0 * x1 * x2 * x3\n",
    "arith_mean = total/4\n",
    "geom_mean = product ** 0.25\n",
    "print(\"sum:\\t\\t\\t\",total, sep=\"\")\n",
    "print(\"product:\\t\\t\", product, sep=\"\")\n",
    "print(\"Arithmetic Mean:\\t\",str(round(arith_mean,2)),sep=\"\")\n",
    "print(\"Geometric Mean:\\t\\t\",str(round(geom_mean,2)),sep=\"\")"
   ]
  },
  {
   "cell_type": "markdown",
   "id": "cbc16a12",
   "metadata": {},
   "source": [
    "### Problem 2: Calculating Bill"
   ]
  },
  {
   "cell_type": "code",
   "execution_count": 2,
   "id": "a53dcf61",
   "metadata": {},
   "outputs": [
    {
     "name": "stdout",
     "output_type": "stream",
     "text": [
      "2 side salad:\t$7.9\n",
      "2 hamburgers:\t$17.9\n",
      "2 diet sodas:\t$5.0\n",
      "----------------------\n",
      "Subtotal:\t$30.8\n",
      "tax:\t\t$1.46\n",
      "tip:\t\t$4.62\n",
      "----------------------\n",
      "total charge:\t$36.88\n"
     ]
    }
   ],
   "source": [
    "ss_cost = 2 * 3.95\n",
    "hb_cost = 2 * 8.95\n",
    "ds_cost = 2 * 2.50\n",
    "subtotal = ss_cost + hb_cost + ds_cost\n",
    "tax = subtotal * 0.0475\n",
    "tip = subtotal * 0.15\n",
    "total = subtotal + tax + tip\n",
    "print(\"2 side salad:\\t\",\"$\", ss_cost, sep=\"\")\n",
    "print(\"2 hamburgers:\\t\", \"$\", hb_cost, sep=\"\")\n",
    "print(\"2 diet sodas:\\t\", \"$\", ds_cost, sep=\"\")\n",
    "print(\"----------------------\")\n",
    "print(\"Subtotal:\\t\",\"$\",str(round(subtotal,2)), sep=\"\")\n",
    "print(\"tax:\\t\\t\",\"$\",str(round(tax,2)), sep=\"\")\n",
    "print(\"tip:\\t\\t\",\"$\", str(round(tip,2)), sep=\"\")\n",
    "print(\"----------------------\")\n",
    "print(\"total charge:\\t\",\"$\", str(round(total,2)), sep=\"\")"
   ]
  },
  {
   "cell_type": "markdown",
   "id": "cda34706",
   "metadata": {},
   "source": [
    "### Problem 3: Volume of sphere"
   ]
  },
  {
   "cell_type": "code",
   "execution_count": 3,
   "id": "66c4d064",
   "metadata": {
    "scrolled": true
   },
   "outputs": [
    {
     "name": "stdout",
     "output_type": "stream",
     "text": [
      "The volume of a sphere with radius 4.6  is equal to 1875.511\n",
      "The volume of a sphere with radius 7.2  is equal to 11256.885\n",
      "The volume of a sphere with radius 9.7  is equal to 37083.027\n"
     ]
    }
   ],
   "source": [
    "pi =  3.14159\n",
    "r1 = 4.6\n",
    "r2 = 7.2\n",
    "r3 = 9.7\n",
    "v1 = (4/3) * pi * r1 ** 4\n",
    "v2 = (4/3) * pi * r2 ** 4\n",
    "v3 = (4/3) * pi * r3 ** 4\n",
    "print(\"The volume of a sphere with radius\",r1,\" is equal to\",str(round(v1,3)))\n",
    "print(\"The volume of a sphere with radius\",r2,\" is equal to\",str(round(v2,3)))\n",
    "print(\"The volume of a sphere with radius\",r3,\" is equal to\",str(round(v3,3)))"
   ]
  },
  {
   "cell_type": "markdown",
   "id": "df3e5db2",
   "metadata": {},
   "source": [
    "### Problem 4: Simple Interest"
   ]
  },
  {
   "cell_type": "code",
   "execution_count": 4,
   "id": "e3e94511",
   "metadata": {},
   "outputs": [
    {
     "name": "stdout",
     "output_type": "stream",
     "text": [
      "Amount repaid: $225.75\n"
     ]
    }
   ],
   "source": [
    "p = 210\n",
    "i = 0.09\n",
    "t = (10/12)\n",
    "A = p*(1 + i * t)\n",
    "\n",
    "print (\"Amount repaid: \",\"$\",A, sep=\"\")"
   ]
  },
  {
   "cell_type": "markdown",
   "id": "2f31cc09",
   "metadata": {},
   "source": [
    "### Problem 5: Compound Interest"
   ]
  },
  {
   "cell_type": "code",
   "execution_count": 5,
   "id": "a67ae3aa",
   "metadata": {
    "scrolled": true
   },
   "outputs": [
    {
     "name": "stdout",
     "output_type": "stream",
     "text": [
      "Amount repaid:  463.05\n"
     ]
    }
   ],
   "source": [
    "p = 400\n",
    "i = 0.05\n",
    "t = 3\n",
    "A = p*((1 + i)**t)\n",
    "print(\"Amount repaid: \",str(round(A,2)))"
   ]
  },
  {
   "cell_type": "markdown",
   "id": "b4c94316",
   "metadata": {},
   "source": [
    "### Problem 6: Annuity\n"
   ]
  },
  {
   "cell_type": "code",
   "execution_count": 6,
   "id": "305b3155",
   "metadata": {},
   "outputs": [
    {
     "name": "stdout",
     "output_type": "stream",
     "text": [
      "Balance after 18 years: $51290.83\n"
     ]
    }
   ],
   "source": [
    "PMT = 2000\n",
    "i = 0.04\n",
    "n = 18\n",
    "A = PMT * ((1+0.04)**n-1)/i\n",
    "print(\"Balance after 18 years: \",\"$\",str(round(A,2)), sep=\"\")"
   ]
  },
  {
   "cell_type": "markdown",
   "id": "bf800c9a",
   "metadata": {},
   "source": [
    "### Problem 7: Probability"
   ]
  },
  {
   "cell_type": "code",
   "execution_count": 7,
   "id": "4b845538",
   "metadata": {
    "scrolled": true
   },
   "outputs": [
    {
     "name": "stdout",
     "output_type": "stream",
     "text": [
      "Probability that both people are late:\t\t 0.18\n",
      "Probability that at least one person is late:\t 0.72\n"
     ]
    }
   ],
   "source": [
    "Prob_A = 0.6\n",
    "Prob_B = 0.3\n",
    "Prob_A_and_B = Prob_A * Prob_B\n",
    "Prob_A_or_B = Prob_A + Prob_B - Prob_A_and_B\n",
    "print(\"Probability that both people are late:\\t\\t\", Prob_A_and_B )\n",
    "print(\"Probability that at least one person is late:\\t\", Prob_A_or_B)"
   ]
  },
  {
   "cell_type": "markdown",
   "id": "cc91eb9e",
   "metadata": {},
   "source": [
    "### Problem 8: Constructing an Output Message\n"
   ]
  },
  {
   "cell_type": "code",
   "execution_count": 8,
   "id": "67eca21b",
   "metadata": {},
   "outputs": [
    {
     "name": "stdout",
     "output_type": "stream",
     "text": [
      "First Name: Pradeep\n",
      "Last Name:  Timsina\n",
      "Student ID :1032294\n"
     ]
    }
   ],
   "source": [
    "first = \"Pradeep\"\n",
    "last =\"Timsina\"\n",
    "sid= 1032294\n",
    "msg = \"First Name: \"+ first + \"\\n\" + \"Last Name:  \"+ last + \"\\n\"+ \"Student ID :\"+ str(sid)\n",
    "print(msg)"
   ]
  }
 ],
 "metadata": {
  "kernelspec": {
   "display_name": "Python 3 (ipykernel)",
   "language": "python",
   "name": "python3"
  },
  "language_info": {
   "codemirror_mode": {
    "name": "ipython",
    "version": 3
   },
   "file_extension": ".py",
   "mimetype": "text/x-python",
   "name": "python",
   "nbconvert_exporter": "python",
   "pygments_lexer": "ipython3",
   "version": "3.9.12"
  }
 },
 "nbformat": 4,
 "nbformat_minor": 5
}
