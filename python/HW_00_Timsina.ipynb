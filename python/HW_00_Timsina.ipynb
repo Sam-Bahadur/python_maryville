{
 "cells": [
  {
   "cell_type": "markdown",
   "id": "85e5d9b0",
   "metadata": {},
   "source": [
    "## Homework_00\n",
    "**pradeep Kiran Timsina**\n",
    "Due sunday 8/28"
   ]
  },
  {
   "cell_type": "markdown",
   "id": "a0e8363e",
   "metadata": {},
   "source": [
    "### Part 1: Arithmetic Operation\n",
    "\n",
    "In This section we will demonstrate the following arithmetic operations\n",
    "* Addition\n",
    "* Substraction\n",
    "* multiplication\n",
    "* division\n",
    "* Exponentiation"
   ]
  },
  {
   "cell_type": "code",
   "execution_count": 1,
   "id": "6d77810a",
   "metadata": {},
   "outputs": [
    {
     "name": "stdout",
     "output_type": "stream",
     "text": [
      "9\n"
     ]
    }
   ],
   "source": [
    "print(7 + 2)"
   ]
  },
  {
   "cell_type": "code",
   "execution_count": 2,
   "id": "fc15c826",
   "metadata": {},
   "outputs": [
    {
     "name": "stdout",
     "output_type": "stream",
     "text": [
      "5\n"
     ]
    }
   ],
   "source": [
    "print(7 - 2)"
   ]
  },
  {
   "cell_type": "code",
   "execution_count": 3,
   "id": "0d7a2475",
   "metadata": {},
   "outputs": [
    {
     "name": "stdout",
     "output_type": "stream",
     "text": [
      "14\n"
     ]
    }
   ],
   "source": [
    "print(7 * 2)"
   ]
  },
  {
   "cell_type": "code",
   "execution_count": 4,
   "id": "44c5a46e",
   "metadata": {},
   "outputs": [
    {
     "name": "stdout",
     "output_type": "stream",
     "text": [
      "3.5\n"
     ]
    }
   ],
   "source": [
    "print(7 / 2)"
   ]
  },
  {
   "cell_type": "code",
   "execution_count": 5,
   "id": "615e0fb5",
   "metadata": {
    "scrolled": true
   },
   "outputs": [
    {
     "name": "stdout",
     "output_type": "stream",
     "text": [
      "49\n"
     ]
    }
   ],
   "source": [
    "print(7 ** 2)"
   ]
  },
  {
   "cell_type": "markdown",
   "id": "cc150243",
   "metadata": {},
   "source": [
    "## part2: Variables\n",
    "In this section, we will demosntrate the following\n",
    "* creating variables\n",
    "* printing the value of variables\n",
    "* operations with variables\n",
    "* nonlinear execution in notebook"
   ]
  },
  {
   "cell_type": "code",
   "execution_count": 6,
   "id": "11e59b1c",
   "metadata": {},
   "outputs": [],
   "source": [
    "x = 91"
   ]
  },
  {
   "cell_type": "code",
   "execution_count": 7,
   "id": "875026b7",
   "metadata": {},
   "outputs": [],
   "source": [
    "x = 42"
   ]
  },
  {
   "cell_type": "code",
   "execution_count": 8,
   "id": "98c5a54d",
   "metadata": {},
   "outputs": [
    {
     "name": "stdout",
     "output_type": "stream",
     "text": [
      "42\n"
     ]
    }
   ],
   "source": [
    "print (x)"
   ]
  },
  {
   "cell_type": "code",
   "execution_count": 9,
   "id": "34c25bcc",
   "metadata": {},
   "outputs": [],
   "source": [
    "y = 7"
   ]
  },
  {
   "cell_type": "code",
   "execution_count": 10,
   "id": "1244add2",
   "metadata": {},
   "outputs": [
    {
     "name": "stdout",
     "output_type": "stream",
     "text": [
      "7\n"
     ]
    }
   ],
   "source": [
    "print (y)"
   ]
  },
  {
   "cell_type": "code",
   "execution_count": 11,
   "id": "913daf57",
   "metadata": {
    "scrolled": true
   },
   "outputs": [
    {
     "name": "stdout",
     "output_type": "stream",
     "text": [
      "6.0\n"
     ]
    }
   ],
   "source": [
    "print (x/y)"
   ]
  },
  {
   "cell_type": "markdown",
   "id": "b6643a50",
   "metadata": {},
   "source": [
    "## part 3: Comments\n",
    " In this section we will learn the following concepts:\n",
    " * writing comments\n",
    " * using comments to document code\n",
    " * using comment to disable lines of code"
   ]
  },
  {
   "cell_type": "code",
   "execution_count": 12,
   "id": "f0228ba1",
   "metadata": {},
   "outputs": [
    {
     "name": "stdout",
     "output_type": "stream",
     "text": [
      "7\n"
     ]
    }
   ],
   "source": [
    "# This is a comment\n",
    "print (2 + 5)"
   ]
  },
  {
   "cell_type": "code",
   "execution_count": 13,
   "id": "495d6141",
   "metadata": {},
   "outputs": [
    {
     "name": "stdout",
     "output_type": "stream",
     "text": [
      "2937.54\n"
     ]
    }
   ],
   "source": [
    "# In this cell, we will calculate the sales revenue\n",
    "sales = 173  # monthly widget sales\n",
    "price = 16.98   #price per widget\n",
    "revenue = sales * price  # monthly revenue\n",
    "print(revenue)"
   ]
  },
  {
   "cell_type": "code",
   "execution_count": 14,
   "id": "c808f678",
   "metadata": {},
   "outputs": [
    {
     "name": "stdout",
     "output_type": "stream",
     "text": [
      "2.0\n",
      "3.0\n"
     ]
    }
   ],
   "source": [
    "print(12/6)\n",
    "# print(12/0)\n",
    "print (12/4)"
   ]
  },
  {
   "cell_type": "markdown",
   "id": "9770fcf3",
   "metadata": {},
   "source": [
    "### Part 4: Strings\n",
    "\n",
    "In this section of the assignment, we will demonstrate the following concepts:\n",
    "* Creating String\n",
    "* String Strings in variables\n",
    "* printing multiple items"
   ]
  },
  {
   "cell_type": "code",
   "execution_count": 15,
   "id": "72917d4a",
   "metadata": {},
   "outputs": [
    {
     "name": "stdout",
     "output_type": "stream",
     "text": [
      "Hello, world\n"
     ]
    }
   ],
   "source": [
    "print(\"Hello, world\")"
   ]
  },
  {
   "cell_type": "code",
   "execution_count": 16,
   "id": "aa973dcc",
   "metadata": {},
   "outputs": [
    {
     "name": "stdout",
     "output_type": "stream",
     "text": [
      "Pradeep Timsina\n"
     ]
    }
   ],
   "source": [
    "name = \"Pradeep Timsina\"\n",
    "print(name)"
   ]
  },
  {
   "cell_type": "code",
   "execution_count": 17,
   "id": "5ceb83ce",
   "metadata": {},
   "outputs": [
    {
     "name": "stdout",
     "output_type": "stream",
     "text": [
      "Hello, my name is Pradeep Timsina.\n"
     ]
    }
   ],
   "source": [
    "print(\"Hello, my name is \", name , \".\", sep=\"\")"
   ]
  }
 ],
 "metadata": {
  "kernelspec": {
   "display_name": "Python 3 (ipykernel)",
   "language": "python",
   "name": "python3"
  },
  "language_info": {
   "codemirror_mode": {
    "name": "ipython",
    "version": 3
   },
   "file_extension": ".py",
   "mimetype": "text/x-python",
   "name": "python",
   "nbconvert_exporter": "python",
   "pygments_lexer": "ipython3",
   "version": "3.9.12"
  }
 },
 "nbformat": 4,
 "nbformat_minor": 5
}
