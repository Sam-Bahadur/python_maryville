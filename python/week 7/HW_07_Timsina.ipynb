{
 "cells": [
  {
   "cell_type": "markdown",
   "id": "ab9a456a",
   "metadata": {},
   "source": [
    "# DSCI 503 - Homework 07\n",
    "### Pradeep K Timsina"
   ]
  },
  {
   "cell_type": "code",
   "execution_count": 1,
   "id": "6e61c8bc",
   "metadata": {},
   "outputs": [],
   "source": [
    "import numpy as np\n",
    "import pandas as pd\n",
    "import matplotlib.pyplot as plt\n",
    "from sklearn.linear_model import LinearRegression\n",
    "from sklearn.model_selection import train_test_split\n",
    "from sklearn.linear_model import LogisticRegression"
   ]
  },
  {
   "cell_type": "markdown",
   "id": "addc51e6",
   "metadata": {},
   "source": [
    "# Problem 1: NYC Restaurants Dataset"
   ]
  },
  {
   "cell_type": "code",
   "execution_count": 2,
   "id": "6e1c45e6",
   "metadata": {},
   "outputs": [
    {
     "data": {
      "text/html": [
       "<div>\n",
       "<style scoped>\n",
       "    .dataframe tbody tr th:only-of-type {\n",
       "        vertical-align: middle;\n",
       "    }\n",
       "\n",
       "    .dataframe tbody tr th {\n",
       "        vertical-align: top;\n",
       "    }\n",
       "\n",
       "    .dataframe thead th {\n",
       "        text-align: right;\n",
       "    }\n",
       "</style>\n",
       "<table border=\"1\" class=\"dataframe\">\n",
       "  <thead>\n",
       "    <tr style=\"text-align: right;\">\n",
       "      <th></th>\n",
       "      <th>Price</th>\n",
       "      <th>Food</th>\n",
       "      <th>Decor</th>\n",
       "      <th>Service</th>\n",
       "      <th>Wait</th>\n",
       "      <th>East</th>\n",
       "    </tr>\n",
       "  </thead>\n",
       "  <tbody>\n",
       "    <tr>\n",
       "      <th>0</th>\n",
       "      <td>43</td>\n",
       "      <td>22</td>\n",
       "      <td>18</td>\n",
       "      <td>20</td>\n",
       "      <td>36</td>\n",
       "      <td>0</td>\n",
       "    </tr>\n",
       "    <tr>\n",
       "      <th>1</th>\n",
       "      <td>32</td>\n",
       "      <td>20</td>\n",
       "      <td>19</td>\n",
       "      <td>19</td>\n",
       "      <td>22</td>\n",
       "      <td>0</td>\n",
       "    </tr>\n",
       "    <tr>\n",
       "      <th>2</th>\n",
       "      <td>34</td>\n",
       "      <td>21</td>\n",
       "      <td>13</td>\n",
       "      <td>18</td>\n",
       "      <td>20</td>\n",
       "      <td>0</td>\n",
       "    </tr>\n",
       "    <tr>\n",
       "      <th>3</th>\n",
       "      <td>41</td>\n",
       "      <td>20</td>\n",
       "      <td>20</td>\n",
       "      <td>17</td>\n",
       "      <td>25</td>\n",
       "      <td>0</td>\n",
       "    </tr>\n",
       "    <tr>\n",
       "      <th>4</th>\n",
       "      <td>54</td>\n",
       "      <td>24</td>\n",
       "      <td>19</td>\n",
       "      <td>21</td>\n",
       "      <td>32</td>\n",
       "      <td>0</td>\n",
       "    </tr>\n",
       "    <tr>\n",
       "      <th>5</th>\n",
       "      <td>52</td>\n",
       "      <td>22</td>\n",
       "      <td>22</td>\n",
       "      <td>21</td>\n",
       "      <td>15</td>\n",
       "      <td>0</td>\n",
       "    </tr>\n",
       "    <tr>\n",
       "      <th>6</th>\n",
       "      <td>34</td>\n",
       "      <td>22</td>\n",
       "      <td>16</td>\n",
       "      <td>21</td>\n",
       "      <td>25</td>\n",
       "      <td>0</td>\n",
       "    </tr>\n",
       "    <tr>\n",
       "      <th>7</th>\n",
       "      <td>34</td>\n",
       "      <td>20</td>\n",
       "      <td>18</td>\n",
       "      <td>21</td>\n",
       "      <td>21</td>\n",
       "      <td>1</td>\n",
       "    </tr>\n",
       "    <tr>\n",
       "      <th>8</th>\n",
       "      <td>39</td>\n",
       "      <td>22</td>\n",
       "      <td>19</td>\n",
       "      <td>22</td>\n",
       "      <td>23</td>\n",
       "      <td>1</td>\n",
       "    </tr>\n",
       "    <tr>\n",
       "      <th>9</th>\n",
       "      <td>44</td>\n",
       "      <td>21</td>\n",
       "      <td>17</td>\n",
       "      <td>19</td>\n",
       "      <td>27</td>\n",
       "      <td>1</td>\n",
       "    </tr>\n",
       "  </tbody>\n",
       "</table>\n",
       "</div>"
      ],
      "text/plain": [
       "   Price  Food  Decor  Service  Wait  East\n",
       "0     43    22     18       20    36     0\n",
       "1     32    20     19       19    22     0\n",
       "2     34    21     13       18    20     0\n",
       "3     41    20     20       17    25     0\n",
       "4     54    24     19       21    32     0\n",
       "5     52    22     22       21    15     0\n",
       "6     34    22     16       21    25     0\n",
       "7     34    20     18       21    21     1\n",
       "8     39    22     19       22    23     1\n",
       "9     44    21     17       19    27     1"
      ]
     },
     "execution_count": 2,
     "metadata": {},
     "output_type": "execute_result"
    }
   ],
   "source": [
    "nyc = pd.read_csv('nyc.txt', sep='\\t')\n",
    "nyc.head(10)"
   ]
  },
  {
   "cell_type": "code",
   "execution_count": 3,
   "id": "72f05729",
   "metadata": {
    "scrolled": true
   },
   "outputs": [
    {
     "name": "stdout",
     "output_type": "stream",
     "text": [
      "Training Features Shape: (134, 5)\n",
      "Test Features Shape:\t (34, 5)\n"
     ]
    }
   ],
   "source": [
    "X1 = nyc.iloc[:,1:].values\n",
    "y1 = nyc.iloc[:,0].values\n",
    "X_train_1, X_test_1, y_train_1, y_test_1 = train_test_split(X1, y1, test_size=0.2, random_state=1)\n",
    "print(\"Training Features Shape:\",X_train_1.shape)\n",
    "print(\"Test Features Shape:\\t\",X_test_1.shape)"
   ]
  },
  {
   "cell_type": "code",
   "execution_count": 4,
   "id": "848e2e0e",
   "metadata": {},
   "outputs": [
    {
     "name": "stdout",
     "output_type": "stream",
     "text": [
      "(168, 5)\n",
      "(168,)\n"
     ]
    }
   ],
   "source": [
    "print(X1.shape)\n",
    "print(y1.shape)"
   ]
  },
  {
   "cell_type": "code",
   "execution_count": 5,
   "id": "502f16ae",
   "metadata": {},
   "outputs": [
    {
     "name": "stdout",
     "output_type": "stream",
     "text": [
      "Intercept:\t -23.75543532248892\n",
      "Coefficients:\t [ 1.55693926  2.00700907 -0.25440527  0.09203064  2.63235537]\n"
     ]
    }
   ],
   "source": [
    "nyc_mod = LinearRegression()\n",
    "nyc_mod.fit(X_train_1, y_train_1)\n",
    "\n",
    "print('Intercept:\\t', nyc_mod.intercept_)\n",
    "print('Coefficients:\\t', nyc_mod.coef_)"
   ]
  },
  {
   "cell_type": "code",
   "execution_count": 6,
   "id": "9af06d16",
   "metadata": {},
   "outputs": [
    {
     "name": "stdout",
     "output_type": "stream",
     "text": [
      "Training r-Squared: 0.6306\n",
      "Testing r-Squared:  0.6245\n"
     ]
    }
   ],
   "source": [
    "train_r2 = nyc_mod.score(X_train_1, y_train_1)\n",
    "test_r2 = nyc_mod.score(X_test_1, y_test_1)\n",
    "\n",
    "print('Training r-Squared:', round(train_r2,4))\n",
    "print('Testing r-Squared: ', round(test_r2,4))"
   ]
  },
  {
   "cell_type": "code",
   "execution_count": 7,
   "id": "3eb0e38a",
   "metadata": {},
   "outputs": [
    {
     "name": "stdout",
     "output_type": "stream",
     "text": [
      "Observed Prices:  [33 45 54 38 22 47 38 51 46 47]\n",
      "Estimated Prices: [39.2  38.09 49.35 39.26 19.72 47.4  36.85 50.07 48.26 43.01]\n"
     ]
    }
   ],
   "source": [
    "test_pred_1 = np.round(nyc_mod.predict(X_test_1),2)\n",
    "test_pred_1\n",
    "print(\"Observed Prices: \",y_test_1[:10])\n",
    "print(\"Estimated Prices:\",test_pred_1[:10])"
   ]
  },
  {
   "cell_type": "code",
   "execution_count": 8,
   "id": "b9b7679c",
   "metadata": {},
   "outputs": [
    {
     "name": "stdout",
     "output_type": "stream",
     "text": [
      "Estimated Prices:  [30.87 42.57 58.06]\n"
     ]
    }
   ],
   "source": [
    "nyc_new = np.array([22,12, 20, 15, 0, 18, 19, 22, 34, 1, 25, 22, 18, 36, 0]).reshape(3,5)\n",
    "new_pred_1 = nyc_mod.predict(nyc_new)\n",
    "print(\"Estimated Prices: \",np.round(new_pred_1,2))"
   ]
  },
  {
   "cell_type": "markdown",
   "id": "e1b8d523",
   "metadata": {},
   "source": [
    "# Problem 2: Diamonds Dataset"
   ]
  },
  {
   "cell_type": "code",
   "execution_count": 9,
   "id": "7c0cc115",
   "metadata": {
    "scrolled": true
   },
   "outputs": [
    {
     "data": {
      "text/html": [
       "<div>\n",
       "<style scoped>\n",
       "    .dataframe tbody tr th:only-of-type {\n",
       "        vertical-align: middle;\n",
       "    }\n",
       "\n",
       "    .dataframe tbody tr th {\n",
       "        vertical-align: top;\n",
       "    }\n",
       "\n",
       "    .dataframe thead th {\n",
       "        text-align: right;\n",
       "    }\n",
       "</style>\n",
       "<table border=\"1\" class=\"dataframe\">\n",
       "  <thead>\n",
       "    <tr style=\"text-align: right;\">\n",
       "      <th></th>\n",
       "      <th>carat</th>\n",
       "      <th>cut</th>\n",
       "      <th>color</th>\n",
       "      <th>clarity</th>\n",
       "      <th>depth</th>\n",
       "      <th>table</th>\n",
       "      <th>price</th>\n",
       "      <th>x</th>\n",
       "      <th>y</th>\n",
       "      <th>z</th>\n",
       "    </tr>\n",
       "  </thead>\n",
       "  <tbody>\n",
       "    <tr>\n",
       "      <th>1</th>\n",
       "      <td>0.23</td>\n",
       "      <td>Ideal</td>\n",
       "      <td>E</td>\n",
       "      <td>SI2</td>\n",
       "      <td>61.5</td>\n",
       "      <td>55.0</td>\n",
       "      <td>326</td>\n",
       "      <td>3.95</td>\n",
       "      <td>3.98</td>\n",
       "      <td>2.43</td>\n",
       "    </tr>\n",
       "    <tr>\n",
       "      <th>2</th>\n",
       "      <td>0.21</td>\n",
       "      <td>Premium</td>\n",
       "      <td>E</td>\n",
       "      <td>SI1</td>\n",
       "      <td>59.8</td>\n",
       "      <td>61.0</td>\n",
       "      <td>326</td>\n",
       "      <td>3.89</td>\n",
       "      <td>3.84</td>\n",
       "      <td>2.31</td>\n",
       "    </tr>\n",
       "    <tr>\n",
       "      <th>3</th>\n",
       "      <td>0.23</td>\n",
       "      <td>Good</td>\n",
       "      <td>E</td>\n",
       "      <td>VS1</td>\n",
       "      <td>56.9</td>\n",
       "      <td>65.0</td>\n",
       "      <td>327</td>\n",
       "      <td>4.05</td>\n",
       "      <td>4.07</td>\n",
       "      <td>2.31</td>\n",
       "    </tr>\n",
       "    <tr>\n",
       "      <th>4</th>\n",
       "      <td>0.29</td>\n",
       "      <td>Premium</td>\n",
       "      <td>I</td>\n",
       "      <td>VS2</td>\n",
       "      <td>62.4</td>\n",
       "      <td>58.0</td>\n",
       "      <td>334</td>\n",
       "      <td>4.20</td>\n",
       "      <td>4.23</td>\n",
       "      <td>2.63</td>\n",
       "    </tr>\n",
       "    <tr>\n",
       "      <th>5</th>\n",
       "      <td>0.31</td>\n",
       "      <td>Good</td>\n",
       "      <td>J</td>\n",
       "      <td>SI2</td>\n",
       "      <td>63.3</td>\n",
       "      <td>58.0</td>\n",
       "      <td>335</td>\n",
       "      <td>4.34</td>\n",
       "      <td>4.35</td>\n",
       "      <td>2.75</td>\n",
       "    </tr>\n",
       "  </tbody>\n",
       "</table>\n",
       "</div>"
      ],
      "text/plain": [
       "   carat      cut color clarity  depth  table  price     x     y     z\n",
       "1   0.23    Ideal     E     SI2   61.5   55.0    326  3.95  3.98  2.43\n",
       "2   0.21  Premium     E     SI1   59.8   61.0    326  3.89  3.84  2.31\n",
       "3   0.23     Good     E     VS1   56.9   65.0    327  4.05  4.07  2.31\n",
       "4   0.29  Premium     I     VS2   62.4   58.0    334  4.20  4.23  2.63\n",
       "5   0.31     Good     J     SI2   63.3   58.0    335  4.34  4.35  2.75"
      ]
     },
     "execution_count": 9,
     "metadata": {},
     "output_type": "execute_result"
    }
   ],
   "source": [
    "diamonds = pd.read_csv('diamonds.txt', sep='\\t')\n",
    "diamonds.head(5)"
   ]
  },
  {
   "cell_type": "code",
   "execution_count": 10,
   "id": "d7d09057",
   "metadata": {},
   "outputs": [
    {
     "data": {
      "text/html": [
       "<div>\n",
       "<style scoped>\n",
       "    .dataframe tbody tr th:only-of-type {\n",
       "        vertical-align: middle;\n",
       "    }\n",
       "\n",
       "    .dataframe tbody tr th {\n",
       "        vertical-align: top;\n",
       "    }\n",
       "\n",
       "    .dataframe thead th {\n",
       "        text-align: right;\n",
       "    }\n",
       "</style>\n",
       "<table border=\"1\" class=\"dataframe\">\n",
       "  <thead>\n",
       "    <tr style=\"text-align: right;\">\n",
       "      <th></th>\n",
       "      <th>carat</th>\n",
       "      <th>cut</th>\n",
       "      <th>color</th>\n",
       "      <th>clarity</th>\n",
       "      <th>depth</th>\n",
       "      <th>table</th>\n",
       "      <th>price</th>\n",
       "      <th>x</th>\n",
       "      <th>y</th>\n",
       "      <th>z</th>\n",
       "      <th>ln_carat</th>\n",
       "      <th>ln_price</th>\n",
       "    </tr>\n",
       "  </thead>\n",
       "  <tbody>\n",
       "    <tr>\n",
       "      <th>1</th>\n",
       "      <td>0.23</td>\n",
       "      <td>Ideal</td>\n",
       "      <td>E</td>\n",
       "      <td>SI2</td>\n",
       "      <td>61.5</td>\n",
       "      <td>55.0</td>\n",
       "      <td>326</td>\n",
       "      <td>3.95</td>\n",
       "      <td>3.98</td>\n",
       "      <td>2.43</td>\n",
       "      <td>-1.469676</td>\n",
       "      <td>5.786897</td>\n",
       "    </tr>\n",
       "    <tr>\n",
       "      <th>2</th>\n",
       "      <td>0.21</td>\n",
       "      <td>Premium</td>\n",
       "      <td>E</td>\n",
       "      <td>SI1</td>\n",
       "      <td>59.8</td>\n",
       "      <td>61.0</td>\n",
       "      <td>326</td>\n",
       "      <td>3.89</td>\n",
       "      <td>3.84</td>\n",
       "      <td>2.31</td>\n",
       "      <td>-1.560648</td>\n",
       "      <td>5.786897</td>\n",
       "    </tr>\n",
       "    <tr>\n",
       "      <th>3</th>\n",
       "      <td>0.23</td>\n",
       "      <td>Good</td>\n",
       "      <td>E</td>\n",
       "      <td>VS1</td>\n",
       "      <td>56.9</td>\n",
       "      <td>65.0</td>\n",
       "      <td>327</td>\n",
       "      <td>4.05</td>\n",
       "      <td>4.07</td>\n",
       "      <td>2.31</td>\n",
       "      <td>-1.469676</td>\n",
       "      <td>5.789960</td>\n",
       "    </tr>\n",
       "    <tr>\n",
       "      <th>4</th>\n",
       "      <td>0.29</td>\n",
       "      <td>Premium</td>\n",
       "      <td>I</td>\n",
       "      <td>VS2</td>\n",
       "      <td>62.4</td>\n",
       "      <td>58.0</td>\n",
       "      <td>334</td>\n",
       "      <td>4.20</td>\n",
       "      <td>4.23</td>\n",
       "      <td>2.63</td>\n",
       "      <td>-1.237874</td>\n",
       "      <td>5.811141</td>\n",
       "    </tr>\n",
       "    <tr>\n",
       "      <th>5</th>\n",
       "      <td>0.31</td>\n",
       "      <td>Good</td>\n",
       "      <td>J</td>\n",
       "      <td>SI2</td>\n",
       "      <td>63.3</td>\n",
       "      <td>58.0</td>\n",
       "      <td>335</td>\n",
       "      <td>4.34</td>\n",
       "      <td>4.35</td>\n",
       "      <td>2.75</td>\n",
       "      <td>-1.171183</td>\n",
       "      <td>5.814131</td>\n",
       "    </tr>\n",
       "  </tbody>\n",
       "</table>\n",
       "</div>"
      ],
      "text/plain": [
       "   carat      cut color clarity  depth  table  price     x     y     z  \\\n",
       "1   0.23    Ideal     E     SI2   61.5   55.0    326  3.95  3.98  2.43   \n",
       "2   0.21  Premium     E     SI1   59.8   61.0    326  3.89  3.84  2.31   \n",
       "3   0.23     Good     E     VS1   56.9   65.0    327  4.05  4.07  2.31   \n",
       "4   0.29  Premium     I     VS2   62.4   58.0    334  4.20  4.23  2.63   \n",
       "5   0.31     Good     J     SI2   63.3   58.0    335  4.34  4.35  2.75   \n",
       "\n",
       "   ln_carat  ln_price  \n",
       "1 -1.469676  5.786897  \n",
       "2 -1.560648  5.786897  \n",
       "3 -1.469676  5.789960  \n",
       "4 -1.237874  5.811141  \n",
       "5 -1.171183  5.814131  "
      ]
     },
     "execution_count": 10,
     "metadata": {},
     "output_type": "execute_result"
    }
   ],
   "source": [
    "diamonds['ln_carat'] = np.log(diamonds.carat)\n",
    "diamonds['ln_price'] = np.log(diamonds.price)\n",
    "diamonds.head(5)"
   ]
  },
  {
   "cell_type": "code",
   "execution_count": 11,
   "id": "ed7a1ae6",
   "metadata": {
    "scrolled": true
   },
   "outputs": [
    {
     "data": {
      "image/png": "[encoded data removed]",
      "text/plain": [
       "<Figure size 720x288 with 2 Axes>"
      ]
     },
     "metadata": {
      "needs_background": "light"
     },
     "output_type": "display_data"
    }
   ],
   "source": [
    "plt.figure(figsize=[10,4])\n",
    "plt.subplot(1,2,1)\n",
    "plt.scatter(x=diamonds.carat, y=diamonds.price, alpha =0.4, s= 20)\n",
    "plt.xlabel('Carat Size')\n",
    "plt.ylabel('Price')\n",
    "plt.title('Relationship between Price and Carat Size')\n",
    "plt.subplot(1,2,2)\n",
    "plt.scatter(x=diamonds.ln_carat, y=diamonds.ln_price, alpha =0.4, s= 20)\n",
    "plt.xlabel('Natural Log of Carat Size')\n",
    "plt.ylabel('Natural Log of Price')\n",
    "plt.title('Relationship between Log-Price and Log-Carat Size')\n",
    "plt.tight_layout()\n",
    "plt.show()\n"
   ]
  },
  {
   "cell_type": "code",
   "execution_count": 12,
   "id": "dbd76fbc",
   "metadata": {},
   "outputs": [
    {
     "name": "stdout",
     "output_type": "stream",
     "text": [
      "Training Features Shape:  (48546, 1)\n",
      "Test Features Shape:\t  (5394, 1)\n"
     ]
    }
   ],
   "source": [
    "X2 = diamonds.loc[:,['ln_carat']].values\n",
    "y2 = diamonds.loc[:,['ln_price']].values\n",
    "X_train_2, X_test_2, y_train_2, y_test_2 = train_test_split(X2, y2, test_size=0.1, random_state=1)\n",
    "print(\"Training Features Shape: \",X_train_2.shape)\n",
    "print(\"Test Features Shape:\\t \",X_test_2.shape)"
   ]
  },
  {
   "cell_type": "code",
   "execution_count": 13,
   "id": "da4aa162",
   "metadata": {
    "scrolled": true
   },
   "outputs": [
    {
     "name": "stdout",
     "output_type": "stream",
     "text": [
      "Intercept:\t 8.448298621179152\n",
      "Coefficients:\t [[1.67493107]]\n"
     ]
    }
   ],
   "source": [
    "dia_mod = LinearRegression()\n",
    "dia_mod.fit(X_train_2, y_train_2)\n",
    "print('Intercept:\\t', dia_mod.intercept_[0])\n",
    "print('Coefficients:\\t', dia_mod.coef_)"
   ]
  },
  {
   "cell_type": "code",
   "execution_count": 14,
   "id": "6cd82168",
   "metadata": {},
   "outputs": [
    {
     "name": "stdout",
     "output_type": "stream",
     "text": [
      "Training r-Squared: 0.933\n",
      "Testing r-Squared:  0.9328\n"
     ]
    }
   ],
   "source": [
    "train_r2_2 = dia_mod.score(X_train_2, y_train_2)\n",
    "test_r2_2 = dia_mod.score(X_test_2, y_test_2)\n",
    "\n",
    "print('Training r-Squared:', round(train_r2_2,4))\n",
    "print('Testing r-Squared: ', round(test_r2_2,4))"
   ]
  },
  {
   "cell_type": "code",
   "execution_count": 15,
   "id": "ce8baf2a",
   "metadata": {
    "scrolled": true
   },
   "outputs": [
    {
     "name": "stdout",
     "output_type": "stream",
     "text": [
      "Observed Prices:  [ 564. 5914. 2562.  537. 5964.  984. 5247.  611. 9645. 1162.]\n",
      "Estimated Prices: [ 728. 6311. 2101.  765. 6311. 1604. 5324. 1043. 9228.  804.]\n"
     ]
    }
   ],
   "source": [
    "test_pred_2 = np.round(dia_mod.predict(X_test_2),2)\n",
    "#test_pred_2\n",
    "print(\"Observed Prices: \",np.round(np.exp(y_test_2[:10].astype(float).flatten().tolist())))\n",
    "print(\"Estimated Prices:\",np.round(np.exp(test_pred_2[:10].astype(float).flatten().tolist())))"
   ]
  },
  {
   "cell_type": "code",
   "execution_count": 16,
   "id": "3bae4d1b",
   "metadata": {},
   "outputs": [
    {
     "name": "stdout",
     "output_type": "stream",
     "text": [
      "Estimated Prices : [1462, 4667, 9204, 14902, 21656, 29390]\n"
     ]
    }
   ],
   "source": [
    "diamonds_new =  np.log([0.5, 1.0, 1.5, 2.0, 2.5, 3.0]).reshape(6, -1)\n",
    "diamonds_new\n",
    "new_pred_2 = dia_mod.predict(diamonds_new)\n",
    "new_pred_2\n",
    "new_pred_3 = np.exp(new_pred_2).round()\n",
    "print(\"Estimated Prices :\",new_pred_3.astype(int).flatten().tolist())"
   ]
  },
  {
   "cell_type": "markdown",
   "id": "253d4cb2",
   "metadata": {},
   "source": [
    "# Problem 3: Heart Disease Dataset"
   ]
  },
  {
   "cell_type": "code",
   "execution_count": 17,
   "id": "ceb06c0d",
   "metadata": {
    "scrolled": true
   },
   "outputs": [
    {
     "data": {
      "text/html": [
       "<div>\n",
       "<style scoped>\n",
       "    .dataframe tbody tr th:only-of-type {\n",
       "        vertical-align: middle;\n",
       "    }\n",
       "\n",
       "    .dataframe tbody tr th {\n",
       "        vertical-align: top;\n",
       "    }\n",
       "\n",
       "    .dataframe thead th {\n",
       "        text-align: right;\n",
       "    }\n",
       "</style>\n",
       "<table border=\"1\" class=\"dataframe\">\n",
       "  <thead>\n",
       "    <tr style=\"text-align: right;\">\n",
       "      <th></th>\n",
       "      <th>age</th>\n",
       "      <th>sex</th>\n",
       "      <th>chest_pain_type</th>\n",
       "      <th>resting_bp</th>\n",
       "      <th>serum_chol</th>\n",
       "      <th>fasting_blood_sugar</th>\n",
       "      <th>electrocardio</th>\n",
       "      <th>max_heart_rate</th>\n",
       "      <th>exercise_induced_angina</th>\n",
       "      <th>oldpeak</th>\n",
       "      <th>slope</th>\n",
       "      <th>major_vessels</th>\n",
       "      <th>thal</th>\n",
       "      <th>heart_disease</th>\n",
       "    </tr>\n",
       "  </thead>\n",
       "  <tbody>\n",
       "    <tr>\n",
       "      <th>0</th>\n",
       "      <td>70</td>\n",
       "      <td>1</td>\n",
       "      <td>4</td>\n",
       "      <td>130</td>\n",
       "      <td>322</td>\n",
       "      <td>0</td>\n",
       "      <td>2</td>\n",
       "      <td>109</td>\n",
       "      <td>0</td>\n",
       "      <td>2.4</td>\n",
       "      <td>2</td>\n",
       "      <td>3</td>\n",
       "      <td>3</td>\n",
       "      <td>2</td>\n",
       "    </tr>\n",
       "    <tr>\n",
       "      <th>1</th>\n",
       "      <td>67</td>\n",
       "      <td>0</td>\n",
       "      <td>3</td>\n",
       "      <td>115</td>\n",
       "      <td>564</td>\n",
       "      <td>0</td>\n",
       "      <td>2</td>\n",
       "      <td>160</td>\n",
       "      <td>0</td>\n",
       "      <td>1.6</td>\n",
       "      <td>2</td>\n",
       "      <td>0</td>\n",
       "      <td>7</td>\n",
       "      <td>1</td>\n",
       "    </tr>\n",
       "    <tr>\n",
       "      <th>2</th>\n",
       "      <td>57</td>\n",
       "      <td>1</td>\n",
       "      <td>2</td>\n",
       "      <td>124</td>\n",
       "      <td>261</td>\n",
       "      <td>0</td>\n",
       "      <td>0</td>\n",
       "      <td>141</td>\n",
       "      <td>0</td>\n",
       "      <td>0.3</td>\n",
       "      <td>1</td>\n",
       "      <td>0</td>\n",
       "      <td>7</td>\n",
       "      <td>2</td>\n",
       "    </tr>\n",
       "    <tr>\n",
       "      <th>3</th>\n",
       "      <td>64</td>\n",
       "      <td>1</td>\n",
       "      <td>4</td>\n",
       "      <td>128</td>\n",
       "      <td>263</td>\n",
       "      <td>0</td>\n",
       "      <td>0</td>\n",
       "      <td>105</td>\n",
       "      <td>1</td>\n",
       "      <td>0.2</td>\n",
       "      <td>2</td>\n",
       "      <td>1</td>\n",
       "      <td>7</td>\n",
       "      <td>1</td>\n",
       "    </tr>\n",
       "    <tr>\n",
       "      <th>4</th>\n",
       "      <td>74</td>\n",
       "      <td>0</td>\n",
       "      <td>2</td>\n",
       "      <td>120</td>\n",
       "      <td>269</td>\n",
       "      <td>0</td>\n",
       "      <td>2</td>\n",
       "      <td>121</td>\n",
       "      <td>1</td>\n",
       "      <td>0.2</td>\n",
       "      <td>1</td>\n",
       "      <td>1</td>\n",
       "      <td>3</td>\n",
       "      <td>1</td>\n",
       "    </tr>\n",
       "    <tr>\n",
       "      <th>5</th>\n",
       "      <td>65</td>\n",
       "      <td>1</td>\n",
       "      <td>4</td>\n",
       "      <td>120</td>\n",
       "      <td>177</td>\n",
       "      <td>0</td>\n",
       "      <td>0</td>\n",
       "      <td>140</td>\n",
       "      <td>0</td>\n",
       "      <td>0.4</td>\n",
       "      <td>1</td>\n",
       "      <td>0</td>\n",
       "      <td>7</td>\n",
       "      <td>1</td>\n",
       "    </tr>\n",
       "    <tr>\n",
       "      <th>6</th>\n",
       "      <td>56</td>\n",
       "      <td>1</td>\n",
       "      <td>3</td>\n",
       "      <td>130</td>\n",
       "      <td>256</td>\n",
       "      <td>1</td>\n",
       "      <td>2</td>\n",
       "      <td>142</td>\n",
       "      <td>1</td>\n",
       "      <td>0.6</td>\n",
       "      <td>2</td>\n",
       "      <td>1</td>\n",
       "      <td>6</td>\n",
       "      <td>2</td>\n",
       "    </tr>\n",
       "    <tr>\n",
       "      <th>7</th>\n",
       "      <td>59</td>\n",
       "      <td>1</td>\n",
       "      <td>4</td>\n",
       "      <td>110</td>\n",
       "      <td>239</td>\n",
       "      <td>0</td>\n",
       "      <td>2</td>\n",
       "      <td>142</td>\n",
       "      <td>1</td>\n",
       "      <td>1.2</td>\n",
       "      <td>2</td>\n",
       "      <td>1</td>\n",
       "      <td>7</td>\n",
       "      <td>2</td>\n",
       "    </tr>\n",
       "    <tr>\n",
       "      <th>8</th>\n",
       "      <td>60</td>\n",
       "      <td>1</td>\n",
       "      <td>4</td>\n",
       "      <td>140</td>\n",
       "      <td>293</td>\n",
       "      <td>0</td>\n",
       "      <td>2</td>\n",
       "      <td>170</td>\n",
       "      <td>0</td>\n",
       "      <td>1.2</td>\n",
       "      <td>2</td>\n",
       "      <td>2</td>\n",
       "      <td>7</td>\n",
       "      <td>2</td>\n",
       "    </tr>\n",
       "    <tr>\n",
       "      <th>9</th>\n",
       "      <td>63</td>\n",
       "      <td>0</td>\n",
       "      <td>4</td>\n",
       "      <td>150</td>\n",
       "      <td>407</td>\n",
       "      <td>0</td>\n",
       "      <td>2</td>\n",
       "      <td>154</td>\n",
       "      <td>0</td>\n",
       "      <td>4.0</td>\n",
       "      <td>2</td>\n",
       "      <td>3</td>\n",
       "      <td>7</td>\n",
       "      <td>2</td>\n",
       "    </tr>\n",
       "  </tbody>\n",
       "</table>\n",
       "</div>"
      ],
      "text/plain": [
       "   age  sex  chest_pain_type  resting_bp  serum_chol  fasting_blood_sugar  \\\n",
       "0   70    1                4         130         322                    0   \n",
       "1   67    0                3         115         564                    0   \n",
       "2   57    1                2         124         261                    0   \n",
       "3   64    1                4         128         263                    0   \n",
       "4   74    0                2         120         269                    0   \n",
       "5   65    1                4         120         177                    0   \n",
       "6   56    1                3         130         256                    1   \n",
       "7   59    1                4         110         239                    0   \n",
       "8   60    1                4         140         293                    0   \n",
       "9   63    0                4         150         407                    0   \n",
       "\n",
       "   electrocardio  max_heart_rate  exercise_induced_angina  oldpeak  slope  \\\n",
       "0              2             109                        0      2.4      2   \n",
       "1              2             160                        0      1.6      2   \n",
       "2              0             141                        0      0.3      1   \n",
       "3              0             105                        1      0.2      2   \n",
       "4              2             121                        1      0.2      1   \n",
       "5              0             140                        0      0.4      1   \n",
       "6              2             142                        1      0.6      2   \n",
       "7              2             142                        1      1.2      2   \n",
       "8              2             170                        0      1.2      2   \n",
       "9              2             154                        0      4.0      2   \n",
       "\n",
       "   major_vessels  thal  heart_disease  \n",
       "0              3     3              2  \n",
       "1              0     7              1  \n",
       "2              0     7              2  \n",
       "3              1     7              1  \n",
       "4              1     3              1  \n",
       "5              0     7              1  \n",
       "6              1     6              2  \n",
       "7              1     7              2  \n",
       "8              2     7              2  \n",
       "9              3     7              2  "
      ]
     },
     "execution_count": 17,
     "metadata": {},
     "output_type": "execute_result"
    }
   ],
   "source": [
    "heart_disease = pd.read_csv('heart_disease.txt', sep='\\t')\n",
    "heart_disease.head(10)"
   ]
  },
  {
   "cell_type": "code",
   "execution_count": 18,
   "id": "05a6ce37",
   "metadata": {
    "scrolled": false
   },
   "outputs": [],
   "source": [
    "X3 = heart_disease.iloc[:,0:13]\n",
    "y3 = heart_disease.loc[:,'heart_disease']"
   ]
  },
  {
   "cell_type": "code",
   "execution_count": 19,
   "id": "437d8cf0",
   "metadata": {},
   "outputs": [
    {
     "name": "stdout",
     "output_type": "stream",
     "text": [
      "Training Features Shape: (216, 13)\n",
      "Test Features Shape:\t (54, 13)\n"
     ]
    }
   ],
   "source": [
    "X_train_3, X_test_3, y_train_3, y_test_3 = train_test_split(X3, y3, test_size=0.2, random_state=1,stratify = y3)\n",
    "print(\"Training Features Shape:\",X_train_3.shape)\n",
    "print(\"Test Features Shape:\\t\",X_test_3.shape)"
   ]
  },
  {
   "cell_type": "code",
   "execution_count": 20,
   "id": "b1c839ee",
   "metadata": {
    "scrolled": true
   },
   "outputs": [
    {
     "name": "stdout",
     "output_type": "stream",
     "text": [
      "Intercept: [-9.76955308]\n",
      "Coefficients:\n",
      " [[-0.03369354  1.77352793  0.75064049  0.02497329  0.01424683 -0.68496792\n",
      "   0.32434679 -0.01949189  0.72693369  0.36467709  0.28540667  1.07332451\n",
      "   0.38451964]]\n"
     ]
    }
   ],
   "source": [
    "hd_mod = LogisticRegression( solver='lbfgs', penalty = 'none', max_iter = 1000)\n",
    "hd_mod.fit(X_train_3, y_train_3)\n",
    "print('Intercept:', hd_mod.intercept_)\n",
    "print('Coefficients:\\n', hd_mod.coef_)"
   ]
  },
  {
   "cell_type": "code",
   "execution_count": 21,
   "id": "514f25e2",
   "metadata": {
    "scrolled": false
   },
   "outputs": [
    {
     "name": "stdout",
     "output_type": "stream",
     "text": [
      "Training Accuracy: 0.8472\n",
      "Testing Accuracy:  0.8148\n"
     ]
    }
   ],
   "source": [
    "train_acc = hd_mod.score(X_train_3, y_train_3)\n",
    "test_acc = hd_mod.score(X_test_3, y_test_3)\n",
    "\n",
    "print('Training Accuracy:', round(train_acc,4))\n",
    "print('Testing Accuracy: ', round(test_acc,4))"
   ]
  },
  {
   "cell_type": "code",
   "execution_count": 22,
   "id": "8253330b",
   "metadata": {},
   "outputs": [
    {
     "name": "stdout",
     "output_type": "stream",
     "text": [
      "Observed Labels : [2, 2, 2, 1, 1, 2, 1, 1, 2, 1]\n",
      "Predicted Labels:  [[2], [2], [2], [1], [1], [2], [1], [1], [2], [1]]\n"
     ]
    }
   ],
   "source": [
    "test_pred_3 = hd_mod.predict(X_test_3)\n",
    "print(\"Observed Labels :\",(y_test_3).head(10).values.tolist())\n",
    "print(\"Predicted Labels: \",(pd.DataFrame(test_pred_3).head(10).values.tolist()))"
   ]
  },
  {
   "cell_type": "code",
   "execution_count": 23,
   "id": "74a4e715",
   "metadata": {},
   "outputs": [
    {
     "data": {
      "text/html": [
       "<div>\n",
       "<style scoped>\n",
       "    .dataframe tbody tr th:only-of-type {\n",
       "        vertical-align: middle;\n",
       "    }\n",
       "\n",
       "    .dataframe tbody tr th {\n",
       "        vertical-align: top;\n",
       "    }\n",
       "\n",
       "    .dataframe thead th {\n",
       "        text-align: right;\n",
       "    }\n",
       "</style>\n",
       "<table border=\"1\" class=\"dataframe\">\n",
       "  <thead>\n",
       "    <tr style=\"text-align: right;\">\n",
       "      <th></th>\n",
       "      <th>1</th>\n",
       "      <th>2</th>\n",
       "    </tr>\n",
       "  </thead>\n",
       "  <tbody>\n",
       "    <tr>\n",
       "      <th>0</th>\n",
       "      <td>0.012052</td>\n",
       "      <td>0.987948</td>\n",
       "    </tr>\n",
       "    <tr>\n",
       "      <th>1</th>\n",
       "      <td>0.043787</td>\n",
       "      <td>0.956213</td>\n",
       "    </tr>\n",
       "    <tr>\n",
       "      <th>2</th>\n",
       "      <td>0.040174</td>\n",
       "      <td>0.959826</td>\n",
       "    </tr>\n",
       "    <tr>\n",
       "      <th>3</th>\n",
       "      <td>0.848533</td>\n",
       "      <td>0.151467</td>\n",
       "    </tr>\n",
       "    <tr>\n",
       "      <th>4</th>\n",
       "      <td>0.874248</td>\n",
       "      <td>0.125752</td>\n",
       "    </tr>\n",
       "    <tr>\n",
       "      <th>5</th>\n",
       "      <td>0.052785</td>\n",
       "      <td>0.947215</td>\n",
       "    </tr>\n",
       "    <tr>\n",
       "      <th>6</th>\n",
       "      <td>0.921326</td>\n",
       "      <td>0.078674</td>\n",
       "    </tr>\n",
       "    <tr>\n",
       "      <th>7</th>\n",
       "      <td>0.943849</td>\n",
       "      <td>0.056151</td>\n",
       "    </tr>\n",
       "    <tr>\n",
       "      <th>8</th>\n",
       "      <td>0.010246</td>\n",
       "      <td>0.989754</td>\n",
       "    </tr>\n",
       "    <tr>\n",
       "      <th>9</th>\n",
       "      <td>0.996576</td>\n",
       "      <td>0.003424</td>\n",
       "    </tr>\n",
       "  </tbody>\n",
       "</table>\n",
       "</div>"
      ],
      "text/plain": [
       "          1         2\n",
       "0  0.012052  0.987948\n",
       "1  0.043787  0.956213\n",
       "2  0.040174  0.959826\n",
       "3  0.848533  0.151467\n",
       "4  0.874248  0.125752\n",
       "5  0.052785  0.947215\n",
       "6  0.921326  0.078674\n",
       "7  0.943849  0.056151\n",
       "8  0.010246  0.989754\n",
       "9  0.996576  0.003424"
      ]
     },
     "execution_count": 23,
     "metadata": {},
     "output_type": "execute_result"
    }
   ],
   "source": [
    "classes = ['1', '2']\n",
    "pd.DataFrame(hd_mod.predict_proba(X_test_3),columns=classes).head(10)"
   ]
  },
  {
   "cell_type": "markdown",
   "id": "8ddae5af",
   "metadata": {},
   "source": [
    "# Problem 4: Gapminder Dataset"
   ]
  },
  {
   "cell_type": "code",
   "execution_count": 24,
   "id": "977b0210",
   "metadata": {
    "scrolled": true
   },
   "outputs": [
    {
     "data": {
      "text/html": [
       "<div>\n",
       "<style scoped>\n",
       "    .dataframe tbody tr th:only-of-type {\n",
       "        vertical-align: middle;\n",
       "    }\n",
       "\n",
       "    .dataframe tbody tr th {\n",
       "        vertical-align: top;\n",
       "    }\n",
       "\n",
       "    .dataframe thead th {\n",
       "        text-align: right;\n",
       "    }\n",
       "</style>\n",
       "<table border=\"1\" class=\"dataframe\">\n",
       "  <thead>\n",
       "    <tr style=\"text-align: right;\">\n",
       "      <th></th>\n",
       "      <th>country</th>\n",
       "      <th>year</th>\n",
       "      <th>continent</th>\n",
       "      <th>population</th>\n",
       "      <th>life_exp</th>\n",
       "      <th>gdp_per_cap</th>\n",
       "      <th>gini</th>\n",
       "    </tr>\n",
       "  </thead>\n",
       "  <tbody>\n",
       "    <tr>\n",
       "      <th>40112</th>\n",
       "      <td>Afghanistan</td>\n",
       "      <td>2018</td>\n",
       "      <td>asia</td>\n",
       "      <td>36400000</td>\n",
       "      <td>58.7</td>\n",
       "      <td>1870</td>\n",
       "      <td>36.8</td>\n",
       "    </tr>\n",
       "    <tr>\n",
       "      <th>40113</th>\n",
       "      <td>Albania</td>\n",
       "      <td>2018</td>\n",
       "      <td>europe</td>\n",
       "      <td>2930000</td>\n",
       "      <td>78.0</td>\n",
       "      <td>12400</td>\n",
       "      <td>29.0</td>\n",
       "    </tr>\n",
       "    <tr>\n",
       "      <th>40114</th>\n",
       "      <td>Algeria</td>\n",
       "      <td>2018</td>\n",
       "      <td>africa</td>\n",
       "      <td>42000000</td>\n",
       "      <td>77.9</td>\n",
       "      <td>13700</td>\n",
       "      <td>27.6</td>\n",
       "    </tr>\n",
       "    <tr>\n",
       "      <th>40115</th>\n",
       "      <td>Angola</td>\n",
       "      <td>2018</td>\n",
       "      <td>africa</td>\n",
       "      <td>30800000</td>\n",
       "      <td>65.2</td>\n",
       "      <td>5850</td>\n",
       "      <td>42.6</td>\n",
       "    </tr>\n",
       "    <tr>\n",
       "      <th>40116</th>\n",
       "      <td>Antigua and Barbuda</td>\n",
       "      <td>2018</td>\n",
       "      <td>americas</td>\n",
       "      <td>103000</td>\n",
       "      <td>77.6</td>\n",
       "      <td>21000</td>\n",
       "      <td>40.0</td>\n",
       "    </tr>\n",
       "    <tr>\n",
       "      <th>40117</th>\n",
       "      <td>Argentina</td>\n",
       "      <td>2018</td>\n",
       "      <td>americas</td>\n",
       "      <td>44700000</td>\n",
       "      <td>77.0</td>\n",
       "      <td>18900</td>\n",
       "      <td>42.4</td>\n",
       "    </tr>\n",
       "    <tr>\n",
       "      <th>40118</th>\n",
       "      <td>Armenia</td>\n",
       "      <td>2018</td>\n",
       "      <td>europe</td>\n",
       "      <td>2930000</td>\n",
       "      <td>76.0</td>\n",
       "      <td>8660</td>\n",
       "      <td>32.6</td>\n",
       "    </tr>\n",
       "    <tr>\n",
       "      <th>40119</th>\n",
       "      <td>Australia</td>\n",
       "      <td>2018</td>\n",
       "      <td>asia</td>\n",
       "      <td>24800000</td>\n",
       "      <td>82.9</td>\n",
       "      <td>45800</td>\n",
       "      <td>32.3</td>\n",
       "    </tr>\n",
       "    <tr>\n",
       "      <th>40120</th>\n",
       "      <td>Austria</td>\n",
       "      <td>2018</td>\n",
       "      <td>europe</td>\n",
       "      <td>8750000</td>\n",
       "      <td>81.8</td>\n",
       "      <td>44600</td>\n",
       "      <td>30.5</td>\n",
       "    </tr>\n",
       "    <tr>\n",
       "      <th>40121</th>\n",
       "      <td>Azerbaijan</td>\n",
       "      <td>2018</td>\n",
       "      <td>europe</td>\n",
       "      <td>9920000</td>\n",
       "      <td>72.3</td>\n",
       "      <td>16600</td>\n",
       "      <td>32.4</td>\n",
       "    </tr>\n",
       "  </tbody>\n",
       "</table>\n",
       "</div>"
      ],
      "text/plain": [
       "                   country  year continent  population  life_exp  gdp_per_cap  \\\n",
       "40112          Afghanistan  2018      asia    36400000      58.7         1870   \n",
       "40113              Albania  2018    europe     2930000      78.0        12400   \n",
       "40114              Algeria  2018    africa    42000000      77.9        13700   \n",
       "40115               Angola  2018    africa    30800000      65.2         5850   \n",
       "40116  Antigua and Barbuda  2018  americas      103000      77.6        21000   \n",
       "40117            Argentina  2018  americas    44700000      77.0        18900   \n",
       "40118              Armenia  2018    europe     2930000      76.0         8660   \n",
       "40119            Australia  2018      asia    24800000      82.9        45800   \n",
       "40120              Austria  2018    europe     8750000      81.8        44600   \n",
       "40121           Azerbaijan  2018    europe     9920000      72.3        16600   \n",
       "\n",
       "       gini  \n",
       "40112  36.8  \n",
       "40113  29.0  \n",
       "40114  27.6  \n",
       "40115  42.6  \n",
       "40116  40.0  \n",
       "40117  42.4  \n",
       "40118  32.6  \n",
       "40119  32.3  \n",
       "40120  30.5  \n",
       "40121  32.4  "
      ]
     },
     "execution_count": 24,
     "metadata": {},
     "output_type": "execute_result"
    }
   ],
   "source": [
    "gm = pd.read_csv('gapminder_data.txt', sep='\\t')\n",
    "gm18 = gm.loc[gm.year == 2018,:]\n",
    "gm18.head(10)"
   ]
  },
  {
   "cell_type": "code",
   "execution_count": 25,
   "id": "45b9d5ce",
   "metadata": {
    "scrolled": true
   },
   "outputs": [
    {
     "name": "stdout",
     "output_type": "stream",
     "text": [
      "Training Features Shape:  (128, 3)\n",
      "Test Features Shape:  \t  (56, 3)\n"
     ]
    }
   ],
   "source": [
    "X4 = gm18.loc[:,['life_exp', 'gdp_per_cap','gini']]\n",
    "y4 = gm18.loc[:,'continent']\n",
    "#.to_numpy()\n",
    "X_train_4, X_test_4, y_train_4, y_test_4 = train_test_split(X4, y4, test_size=0.3, random_state=1,stratify = y4)\n",
    "print(\"Training Features Shape: \",X_train_4.shape)\n",
    "print(\"Test Features Shape:  \\t \",X_test_4.shape)"
   ]
  },
  {
   "cell_type": "code",
   "execution_count": 26,
   "id": "7e6f66ac",
   "metadata": {
    "scrolled": true
   },
   "outputs": [
    {
     "name": "stdout",
     "output_type": "stream",
     "text": [
      "Intercept: [ 0.00205071 -0.00472772  0.00331953 -0.00064252]\n",
      "Coefficients:\n",
      " [[-8.83916406e-02 -1.02870279e-04  2.01103330e-01]\n",
      " [-8.63004520e-02  3.30470086e-05  1.59928483e-01]\n",
      " [ 1.93872495e-02  2.94782800e-05 -2.33841516e-02]\n",
      " [ 1.55304843e-01  4.03449907e-05 -3.37647661e-01]]\n"
     ]
    }
   ],
   "source": [
    "gm_mod = LogisticRegression( solver='lbfgs', penalty = 'none',multi_class='multinomial',max_iter=400)\n",
    "gm_mod.fit(X_train_4, y_train_4)\n",
    "print('Intercept:', gm_mod.intercept_)\n",
    "print('Coefficients:\\n', gm_mod.coef_)"
   ]
  },
  {
   "cell_type": "code",
   "execution_count": 27,
   "id": "134023fe",
   "metadata": {},
   "outputs": [
    {
     "name": "stdout",
     "output_type": "stream",
     "text": [
      "Training Accuracy: 0.625\n",
      "Testing Accuracy:  0.5893\n"
     ]
    }
   ],
   "source": [
    "train_acc = gm_mod.score(X_train_4, y_train_4)\n",
    "test_acc = gm_mod.score(X_test_4, y_test_4)\n",
    "\n",
    "print('Training Accuracy:', round(train_acc,4))\n",
    "print('Testing Accuracy: ', round(test_acc,4))"
   ]
  },
  {
   "cell_type": "code",
   "execution_count": 28,
   "id": "a4ea893e",
   "metadata": {},
   "outputs": [
    {
     "name": "stdout",
     "output_type": "stream",
     "text": [
      "Observed Labels:  ['americas', 'asia', 'asia', 'asia', 'africa', 'europe', 'asia', 'europe']\n",
      "Estimated Labels: ['asia' 'europe' 'africa' 'asia' 'europe' 'europe' 'africa' 'europe']\n"
     ]
    }
   ],
   "source": [
    "test_pred_4 = gm_mod.predict(X_test_4)\n",
    "test_pred_4\n",
    "print(\"Observed Labels: \",y_test_4.iloc[:8].values.tolist())\n",
    "print(\"Estimated Labels:\",test_pred_4[:8])"
   ]
  },
  {
   "cell_type": "code",
   "execution_count": 29,
   "id": "d34f6037",
   "metadata": {
    "scrolled": true
   },
   "outputs": [
    {
     "data": {
      "text/html": [
       "<div>\n",
       "<style scoped>\n",
       "    .dataframe tbody tr th:only-of-type {\n",
       "        vertical-align: middle;\n",
       "    }\n",
       "\n",
       "    .dataframe tbody tr th {\n",
       "        vertical-align: top;\n",
       "    }\n",
       "\n",
       "    .dataframe thead th {\n",
       "        text-align: right;\n",
       "    }\n",
       "</style>\n",
       "<table border=\"1\" class=\"dataframe\">\n",
       "  <thead>\n",
       "    <tr style=\"text-align: right;\">\n",
       "      <th></th>\n",
       "      <th>africa</th>\n",
       "      <th>americas</th>\n",
       "      <th>asia</th>\n",
       "      <th>europe</th>\n",
       "    </tr>\n",
       "  </thead>\n",
       "  <tbody>\n",
       "    <tr>\n",
       "      <th>0</th>\n",
       "      <td>0.066398</td>\n",
       "      <td>0.259417</td>\n",
       "      <td>0.578477</td>\n",
       "      <td>0.095708</td>\n",
       "    </tr>\n",
       "    <tr>\n",
       "      <th>1</th>\n",
       "      <td>0.001109</td>\n",
       "      <td>0.043555</td>\n",
       "      <td>0.358341</td>\n",
       "      <td>0.596995</td>\n",
       "    </tr>\n",
       "    <tr>\n",
       "      <th>2</th>\n",
       "      <td>0.662816</td>\n",
       "      <td>0.210904</td>\n",
       "      <td>0.122822</td>\n",
       "      <td>0.003458</td>\n",
       "    </tr>\n",
       "    <tr>\n",
       "      <th>3</th>\n",
       "      <td>0.227022</td>\n",
       "      <td>0.262035</td>\n",
       "      <td>0.456582</td>\n",
       "      <td>0.054360</td>\n",
       "    </tr>\n",
       "    <tr>\n",
       "      <th>4</th>\n",
       "      <td>0.002028</td>\n",
       "      <td>0.004898</td>\n",
       "      <td>0.112341</td>\n",
       "      <td>0.880734</td>\n",
       "    </tr>\n",
       "    <tr>\n",
       "      <th>5</th>\n",
       "      <td>0.001847</td>\n",
       "      <td>0.023808</td>\n",
       "      <td>0.252409</td>\n",
       "      <td>0.721936</td>\n",
       "    </tr>\n",
       "    <tr>\n",
       "      <th>6</th>\n",
       "      <td>0.630288</td>\n",
       "      <td>0.219064</td>\n",
       "      <td>0.146739</td>\n",
       "      <td>0.003909</td>\n",
       "    </tr>\n",
       "    <tr>\n",
       "      <th>7</th>\n",
       "      <td>0.000027</td>\n",
       "      <td>0.000732</td>\n",
       "      <td>0.033143</td>\n",
       "      <td>0.966099</td>\n",
       "    </tr>\n",
       "    <tr>\n",
       "      <th>8</th>\n",
       "      <td>0.001238</td>\n",
       "      <td>0.010807</td>\n",
       "      <td>0.163428</td>\n",
       "      <td>0.824527</td>\n",
       "    </tr>\n",
       "    <tr>\n",
       "      <th>9</th>\n",
       "      <td>0.178244</td>\n",
       "      <td>0.117895</td>\n",
       "      <td>0.492520</td>\n",
       "      <td>0.211342</td>\n",
       "    </tr>\n",
       "  </tbody>\n",
       "</table>\n",
       "</div>"
      ],
      "text/plain": [
       "     africa  americas      asia    europe\n",
       "0  0.066398  0.259417  0.578477  0.095708\n",
       "1  0.001109  0.043555  0.358341  0.596995\n",
       "2  0.662816  0.210904  0.122822  0.003458\n",
       "3  0.227022  0.262035  0.456582  0.054360\n",
       "4  0.002028  0.004898  0.112341  0.880734\n",
       "5  0.001847  0.023808  0.252409  0.721936\n",
       "6  0.630288  0.219064  0.146739  0.003909\n",
       "7  0.000027  0.000732  0.033143  0.966099\n",
       "8  0.001238  0.010807  0.163428  0.824527\n",
       "9  0.178244  0.117895  0.492520  0.211342"
      ]
     },
     "execution_count": 29,
     "metadata": {},
     "output_type": "execute_result"
    }
   ],
   "source": [
    "classes_conti = ['africa', 'americas','asia','europe']\n",
    "pd.DataFrame(gm_mod.predict_proba(X_test_4),columns=classes_conti).head(10)"
   ]
  },
  {
   "cell_type": "code",
   "execution_count": 30,
   "id": "5b94f885",
   "metadata": {
    "scrolled": true
   },
   "outputs": [
    {
     "name": "stderr",
     "output_type": "stream",
     "text": [
      "C:\\Users\\pradi\\anaconda3\\lib\\site-packages\\sklearn\\base.py:450: UserWarning: X does not have valid feature names, but LogisticRegression was fitted with feature names\n",
      "  warnings.warn(\n"
     ]
    },
    {
     "data": {
      "text/html": [
       "<div>\n",
       "<style scoped>\n",
       "    .dataframe tbody tr th:only-of-type {\n",
       "        vertical-align: middle;\n",
       "    }\n",
       "\n",
       "    .dataframe tbody tr th {\n",
       "        vertical-align: top;\n",
       "    }\n",
       "\n",
       "    .dataframe thead th {\n",
       "        text-align: right;\n",
       "    }\n",
       "</style>\n",
       "<table border=\"1\" class=\"dataframe\">\n",
       "  <thead>\n",
       "    <tr style=\"text-align: right;\">\n",
       "      <th></th>\n",
       "      <th>africa</th>\n",
       "      <th>americas</th>\n",
       "      <th>asia</th>\n",
       "      <th>europe</th>\n",
       "    </tr>\n",
       "  </thead>\n",
       "  <tbody>\n",
       "    <tr>\n",
       "      <th>0</th>\n",
       "      <td>0.038378</td>\n",
       "      <td>0.025582</td>\n",
       "      <td>0.286945</td>\n",
       "      <td>0.649094</td>\n",
       "    </tr>\n",
       "    <tr>\n",
       "      <th>1</th>\n",
       "      <td>0.432704</td>\n",
       "      <td>0.191083</td>\n",
       "      <td>0.342744</td>\n",
       "      <td>0.033469</td>\n",
       "    </tr>\n",
       "    <tr>\n",
       "      <th>2</th>\n",
       "      <td>0.726308</td>\n",
       "      <td>0.212487</td>\n",
       "      <td>0.060948</td>\n",
       "      <td>0.000257</td>\n",
       "    </tr>\n",
       "    <tr>\n",
       "      <th>3</th>\n",
       "      <td>0.004866</td>\n",
       "      <td>0.024915</td>\n",
       "      <td>0.264902</td>\n",
       "      <td>0.705316</td>\n",
       "    </tr>\n",
       "    <tr>\n",
       "      <th>4</th>\n",
       "      <td>0.092405</td>\n",
       "      <td>0.313437</td>\n",
       "      <td>0.532905</td>\n",
       "      <td>0.061252</td>\n",
       "    </tr>\n",
       "    <tr>\n",
       "      <th>5</th>\n",
       "      <td>0.258990</td>\n",
       "      <td>0.581991</td>\n",
       "      <td>0.158234</td>\n",
       "      <td>0.000785</td>\n",
       "    </tr>\n",
       "  </tbody>\n",
       "</table>\n",
       "</div>"
      ],
      "text/plain": [
       "     africa  americas      asia    europe\n",
       "0  0.038378  0.025582  0.286945  0.649094\n",
       "1  0.432704  0.191083  0.342744  0.033469\n",
       "2  0.726308  0.212487  0.060948  0.000257\n",
       "3  0.004866  0.024915  0.264902  0.705316\n",
       "4  0.092405  0.313437  0.532905  0.061252\n",
       "5  0.258990  0.581991  0.158234  0.000785"
      ]
     },
     "execution_count": 30,
     "metadata": {},
     "output_type": "execute_result"
    }
   ],
   "source": [
    "gm_new = pd.DataFrame([[75, 5000, 30],[75, 5000, 40],[75, 5000, 50],[75, 20000, 30],[75, 20000, 40],[75, 20000, 50]])\n",
    "pd.DataFrame(gm_mod.predict_proba(gm_new),columns=classes_conti)"
   ]
  },
  {
   "cell_type": "markdown",
   "id": "73782c37",
   "metadata": {},
   "source": [
    "* Country 0 is most likely in europe\n",
    "* Country 1 is most likely in africa\n",
    "* Country 2 is most likely in africa\n",
    "* Country 3 is most likely in europe\n",
    "* Country 4 is most likely in asia\n",
    "* Country 5 is most likely in americas"
   ]
  }
 ],
 "metadata": {
  "kernelspec": {
   "display_name": "Python 3 (ipykernel)",
   "language": "python",
   "name": "python3"
  },
  "language_info": {
   "codemirror_mode": {
    "name": "ipython",
    "version": 3
   },
   "file_extension": ".py",
   "mimetype": "text/x-python",
   "name": "python",
   "nbconvert_exporter": "python",
   "pygments_lexer": "ipython3",
   "version": "3.9.12"
  }
 },
 "nbformat": 4,
 "nbformat_minor": 5
}
