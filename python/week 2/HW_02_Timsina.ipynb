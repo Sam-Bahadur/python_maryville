{
 "cells": [
  {
   "cell_type": "markdown",
   "id": "c2ac273b",
   "metadata": {},
   "source": [
    "# \"DSCI 503 - Homework 02\"\n",
    "### Pradeep Kiran Timsina"
   ]
  },
  {
   "cell_type": "markdown",
   "id": "27d1632d",
   "metadata": {},
   "source": [
    "### Problem 1: Altering Lists"
   ]
  },
  {
   "cell_type": "code",
   "execution_count": 1,
   "id": "46196249",
   "metadata": {},
   "outputs": [],
   "source": [
    "employees = ['Beth','Fred','Drew','Alex','Emma','Chad']\n",
    "years = [15,11,8,5,4,2]"
   ]
  },
  {
   "cell_type": "code",
   "execution_count": 2,
   "id": "4dc42805",
   "metadata": {},
   "outputs": [],
   "source": [
    "employees.insert(1,'Gina')\n",
    "employees.insert(-2,'Herb')\n",
    "employees.append('Iris')\n",
    "years.insert(1,12)\n",
    "years.insert(-2,3)\n",
    "years.append(0)"
   ]
  },
  {
   "cell_type": "code",
   "execution_count": 3,
   "id": "fc2d17e1",
   "metadata": {
    "scrolled": false
   },
   "outputs": [
    {
     "name": "stdout",
     "output_type": "stream",
     "text": [
      "['Beth', 'Gina', 'Fred', 'Drew', 'Alex', 'Herb', 'Emma', 'Chad', 'Iris']\n",
      "[15, 12, 11, 8, 5, 3, 4, 2, 0]\n"
     ]
    }
   ],
   "source": [
    "print(employees)\n",
    "print(years)"
   ]
  },
  {
   "cell_type": "code",
   "execution_count": 4,
   "id": "f6af5cbc",
   "metadata": {},
   "outputs": [],
   "source": [
    "employees.remove('Fred')\n",
    "years.remove(8)"
   ]
  },
  {
   "cell_type": "code",
   "execution_count": 5,
   "id": "e64f0be0",
   "metadata": {
    "scrolled": true
   },
   "outputs": [
    {
     "name": "stdout",
     "output_type": "stream",
     "text": [
      "['Beth', 'Gina', 'Drew', 'Alex', 'Herb', 'Emma', 'Chad', 'Iris']\n",
      "[15, 12, 11, 5, 3, 4, 2, 0]\n"
     ]
    }
   ],
   "source": [
    "print(employees)\n",
    "print(years)"
   ]
  },
  {
   "cell_type": "code",
   "execution_count": 6,
   "id": "d4064141",
   "metadata": {},
   "outputs": [],
   "source": [
    "employees.remove('Emma')\n",
    "years.remove(4)"
   ]
  },
  {
   "cell_type": "code",
   "execution_count": 7,
   "id": "7faa53ea",
   "metadata": {},
   "outputs": [],
   "source": [
    "employees.insert(3,'Emma')\n",
    "years.insert(3,6)"
   ]
  },
  {
   "cell_type": "code",
   "execution_count": 8,
   "id": "1d0c0afc",
   "metadata": {
    "scrolled": false
   },
   "outputs": [
    {
     "name": "stdout",
     "output_type": "stream",
     "text": [
      "['Beth', 'Gina', 'Drew', 'Emma', 'Alex', 'Herb', 'Chad', 'Iris']\n",
      "[15, 12, 11, 6, 5, 3, 2, 0]\n"
     ]
    }
   ],
   "source": [
    "print(employees)\n",
    "print(years)"
   ]
  },
  {
   "cell_type": "markdown",
   "id": "4806032e",
   "metadata": {},
   "source": [
    "### Problem 2: Sorting and Slicing Lists"
   ]
  },
  {
   "cell_type": "code",
   "execution_count": 9,
   "id": "0a1bc31d",
   "metadata": {},
   "outputs": [
    {
     "name": "stdout",
     "output_type": "stream",
     "text": [
      "[242, 137, 336, 270, 341, 179, 73, 195, 5, 191, 247, 140, 329, 414, 235, 353, 442, 307, 116, 285, 0, 338, 319, 74, 225, 188, 83, 173, 463, 107, 30, 295, 419, 102, 38, 262, 351, 467, 172, 348, 207, 408, 431, 44, 9, 31, 462, 478, 260, 114, 46, 216, 227, 57, 452, 448, 69, 276, 160, 318, 480, 473, 356, 26, 284, 87, 259, 417, 42, 205, 311, 214, 342, 305, 240, 244, 429, 196, 277, 15, 328, 371, 457, 98, 403, 339, 133, 182, 185, 484, 197, 344, 158, 58, 129, 120, 171, 186, 190]\n"
     ]
    }
   ],
   "source": [
    "import random\n",
    "random.seed(12)\n",
    "random_list = random.sample(range(500), 99)\n",
    "print(random_list)"
   ]
  },
  {
   "cell_type": "code",
   "execution_count": 10,
   "id": "def918eb",
   "metadata": {
    "scrolled": true
   },
   "outputs": [
    {
     "name": "stdout",
     "output_type": "stream",
     "text": [
      "Length of random_list: 99\n",
      "First 10 Elements of random_list: [242, 137, 336, 270, 341, 179, 73, 195, 5, 191]\n"
     ]
    }
   ],
   "source": [
    "print(\"Length of random_list:\",len(random_list))\n",
    "print(\"First 10 Elements of random_list:\",random_list[:10])"
   ]
  },
  {
   "cell_type": "code",
   "execution_count": 11,
   "id": "ccb79012",
   "metadata": {
    "scrolled": true
   },
   "outputs": [
    {
     "name": "stdout",
     "output_type": "stream",
     "text": [
      "The sum of the elements in random list is 23739.\n"
     ]
    }
   ],
   "source": [
    "print(\"The sum of the elements in random list is \",sum(random_list),\".\",sep=\"\")"
   ]
  },
  {
   "cell_type": "code",
   "execution_count": 12,
   "id": "351966aa",
   "metadata": {
    "scrolled": true
   },
   "outputs": [
    {
     "name": "stdout",
     "output_type": "stream",
     "text": [
      "First 10 Elements of sorted_list: [0, 5, 9, 15, 26, 30, 31, 38, 42, 44]\n",
      "First 10 Elements of random_list: [242, 137, 336, 270, 341, 179, 73, 195, 5, 191]\n"
     ]
    }
   ],
   "source": [
    "sorted_list = random_list.copy()\n",
    "sorted_list.sort()\n",
    "print(\"First 10 Elements of sorted_list:\",sorted_list[:10])\n",
    "print(\"First 10 Elements of random_list:\",random_list[:10])"
   ]
  },
  {
   "cell_type": "code",
   "execution_count": 13,
   "id": "b1f234fa",
   "metadata": {},
   "outputs": [
    {
     "name": "stdout",
     "output_type": "stream",
     "text": [
      "The smallest element of bot_slice is 0\n",
      "The largest element of bot_slice is 173\n",
      "\n",
      "The smallest element of mid_slice is 179\n",
      "The largest element of mid_slice is 311\n",
      "\n",
      "The smallest element of top_slice is 318\n",
      "The largest element of top_slice is 484\n"
     ]
    }
   ],
   "source": [
    "bot_slice = sorted_list[0:33]\n",
    "mid_slice = sorted_list[33:66]\n",
    "top_slice = sorted_list[66:99]\n",
    "\n",
    "print(\"The smallest element of bot_slice is \",bot_slice[0],sep=\"\")\n",
    "print(\"The largest element of bot_slice is \",bot_slice[32],sep=\"\")\n",
    "\n",
    "print()\n",
    "\n",
    "print(\"The smallest element of mid_slice is \",mid_slice[0],sep=\"\")\n",
    "print(\"The largest element of mid_slice is \",mid_slice[32],sep=\"\")\n",
    "\n",
    "print()\n",
    "\n",
    "print(\"The smallest element of top_slice is \",top_slice[0],sep=\"\")\n",
    "print(\"The largest element of top_slice is \",top_slice[32],sep=\"\")"
   ]
  },
  {
   "cell_type": "markdown",
   "id": "a8e65626",
   "metadata": {},
   "source": [
    "### Problem 3:  Calculating Sum of Squared Errors"
   ]
  },
  {
   "cell_type": "code",
   "execution_count": 14,
   "id": "27ef8cd6",
   "metadata": {},
   "outputs": [],
   "source": [
    "length = [22.7, 22.4, 25.8, 21.3, 20.1, 22.1, 21.1, 25.3, 26.9, 26.9, 23.0, 23.8, 26.2, 20.4, 23.0, 21.9, 23.5, 27.8, 25.3, 25.9]\n",
    "weight = [9.2, 8.8, 10.7, 8.3, 6.2, 8.6, 7.2, 11.2, 10.5, 11.3, 9.6, 9.9, 10.9, 5.9, 9.5, 9.1, 9.7, 11.6, 10.2, 10.5]"
   ]
  },
  {
   "cell_type": "code",
   "execution_count": 15,
   "id": "0c3973d8",
   "metadata": {
    "scrolled": true
   },
   "outputs": [
    {
     "name": "stdout",
     "output_type": "stream",
     "text": [
      "[8.42, 8.24, 10.28, 7.58, 6.86, 8.06, 7.46, 9.98, 10.94, 10.94, 8.6, 9.08, 10.52, 7.04, 8.6, 7.94, 8.9, 11.48, 9.98, 10.34]\n"
     ]
    }
   ],
   "source": [
    "pred_weight=[]\n",
    "for lnt in range(0,len(length)):\n",
    "    weight_temp = (round(0.6 * length[lnt] - 5.2,2))\n",
    "    pred_weight.append(weight_temp)\n",
    "print(pred_weight)"
   ]
  },
  {
   "cell_type": "code",
   "execution_count": 16,
   "id": "b6fba7d7",
   "metadata": {
    "scrolled": true
   },
   "outputs": [
    {
     "name": "stdout",
     "output_type": "stream",
     "text": [
      "10.2236\n"
     ]
    }
   ],
   "source": [
    "SSE = 0\n",
    "for lnt in range(0,len(length)):\n",
    "    diff = weight[lnt] - pred_weight[lnt]\n",
    "    sqrd = diff ** 2\n",
    "    SSE = SSE + sqrd\n",
    "print(round(SSE,4))"
   ]
  },
  {
   "cell_type": "markdown",
   "id": "45aaaa82",
   "metadata": {},
   "source": [
    "### Problem 4: Calculating Exam Scores"
   ]
  },
  {
   "cell_type": "code",
   "execution_count": 17,
   "id": "cceebe0e",
   "metadata": {
    "scrolled": false
   },
   "outputs": [
    {
     "name": "stdout",
     "output_type": "stream",
     "text": [
      "Student 1 Grade: 64.0%\n",
      "Student 2 Grade: 84.0%\n"
     ]
    }
   ],
   "source": [
    "correct= ['D', 'B', 'C', 'A', 'C', 'D', 'A', 'C', 'C', 'B', 'D', 'A', 'B', 'D', 'C', 'D', 'C', 'D', 'C', 'A', 'B', 'D', 'C', 'B', 'A']\n",
    "answer1= ['A', 'B', 'C', 'A', 'B', 'D', 'A', 'A', 'C', 'B', 'D', 'A', 'D', 'C', 'C', 'B', 'C', 'D', 'B', 'A', 'D', 'D', 'C', 'C', 'A']\n",
    "answer2= ['D', 'A', 'C', 'A', 'B', 'D', 'A', 'C', 'C', 'B', 'D', 'A', 'B', 'D', 'A', 'D', 'C', 'D','C', 'A', 'B', 'C', 'C', 'B', 'A']\n",
    "count1 = 0\n",
    "count2 = 0\n",
    "for lent in range(0,len(correct)):\n",
    "    if (correct[lent] == answer1[lent]):\n",
    "        count1= count1 + 1\n",
    "    if (correct[lent] == answer2[lent]):\n",
    "        count2= count2 + 1\n",
    "grade1 = (count1/len(correct)) * 100\n",
    "grade2 = (count2/len(correct)) * 100\n",
    "\n",
    "print(\"Student 1 Grade: \",grade1,\"%\",sep=\"\")\n",
    "print(\"Student 2 Grade: \",grade2,\"%\",sep=\"\")\n"
   ]
  },
  {
   "cell_type": "markdown",
   "id": "ed4fd186",
   "metadata": {},
   "source": [
    "### Problem 5: Determining Monthly Payments"
   ]
  },
  {
   "cell_type": "code",
   "execution_count": 18,
   "id": "c0726944",
   "metadata": {},
   "outputs": [
    {
     "name": "stdout",
     "output_type": "stream",
     "text": [
      "A loan of $100000 would require monthly payments of $524.67.\n",
      "A loan of $110000 would require monthly payments of $577.13.\n",
      "A loan of $120000 would require monthly payments of $629.6.\n",
      "A loan of $130000 would require monthly payments of $682.06.\n",
      "A loan of $140000 would require monthly payments of $734.53.\n",
      "A loan of $150000 would require monthly payments of $787.0.\n",
      "A loan of $160000 would require monthly payments of $839.46.\n",
      "A loan of $170000 would require monthly payments of $891.93.\n",
      "A loan of $180000 would require monthly payments of $944.4.\n",
      "A loan of $190000 would require monthly payments of $996.86.\n",
      "A loan of $200000 would require monthly payments of $1049.33.\n"
     ]
    }
   ],
   "source": [
    "i = 0.004\n",
    "n = 360\n",
    "start = 100000\n",
    "increment = 10000\n",
    "for k in range(1,12):\n",
    "    PMT = ( i * start)/(1-(1+i)**-n)\n",
    "    print(\"A loan of $\",start , \" would require monthly payments of $\",round(PMT,2),\".\", sep=\"\")\n",
    "    start = start + increment"
   ]
  },
  {
   "cell_type": "markdown",
   "id": "f4819ddd",
   "metadata": {},
   "source": [
    "### Problem 6: Creating an Amortization Schedule\n"
   ]
  },
  {
   "cell_type": "code",
   "execution_count": 19,
   "id": "ed4c5bcc",
   "metadata": {
    "scrolled": true
   },
   "outputs": [
    {
     "name": "stdout",
     "output_type": "stream",
     "text": [
      "The balance at the end of 12 months will be $157553.12.\n",
      "The balance at the end of 24 months will be $154986.16.\n",
      "The balance at the end of 36 months will be $152293.23.\n",
      "The balance at the end of 48 months will be $149468.18.\n",
      "The balance at the end of 60 months will be $146504.5.\n",
      "The balance at the end of 72 months will be $143395.39.\n",
      "The balance at the end of 84 months will be $140133.72.\n",
      "The balance at the end of 96 months will be $136711.97.\n",
      "The balance at the end of 108 months will be $133122.33.\n",
      "The balance at the end of 120 months will be $129356.56.\n",
      "The balance at the end of 132 months will be $125406.0.\n",
      "The balance at the end of 144 months will be $121261.57.\n",
      "The balance at the end of 156 months will be $116913.78.\n",
      "The balance at the end of 168 months will be $112352.64.\n",
      "The balance at the end of 180 months will be $107567.68.\n",
      "The balance at the end of 192 months will be $102547.91.\n",
      "The balance at the end of 204 months will be $97281.84.\n",
      "The balance at the end of 216 months will be $91757.37.\n",
      "The balance at the end of 228 months will be $85961.81.\n",
      "The balance at the end of 240 months will be $79881.85.\n",
      "The balance at the end of 252 months will be $73503.55.\n",
      "The balance at the end of 264 months will be $66812.25.\n",
      "The balance at the end of 276 months will be $59792.61.\n",
      "The balance at the end of 288 months will be $52428.53.\n",
      "The balance at the end of 300 months will be $44703.11.\n",
      "The balance at the end of 312 months will be $36598.58.\n",
      "The balance at the end of 324 months will be $28096.34.\n",
      "The balance at the end of 336 months will be $19176.93.\n",
      "The balance at the end of 348 months will be $9819.84.\n",
      "The balance at the end of 360 months will be $3.59.\n"
     ]
    }
   ],
   "source": [
    "balance = 160000\n",
    "i =0.004\n",
    "pmt = 839.46\n",
    "for iteration in range(1,361):\n",
    "    new_blnc = (balance * (1 + i)) - pmt\n",
    "    balance = round(new_blnc,2)\n",
    "    if iteration % 12 == 0:\n",
    "        print(\"The balance at the end of \", iteration ,\" months will be $\",balance,\".\", sep=\"\")            \n"
   ]
  },
  {
   "cell_type": "markdown",
   "id": "970ada25",
   "metadata": {},
   "source": [
    "### Problem 7: Calculating Price of a Bulk Order\n"
   ]
  },
  {
   "cell_type": "code",
   "execution_count": 20,
   "id": "13d1517f",
   "metadata": {
    "scrolled": true
   },
   "outputs": [
    {
     "name": "stdout",
     "output_type": "stream",
     "text": [
      "The cost for an order of 84 widgets is $29400.\n",
      "The cost for an order of 100 widgets is $35000.\n",
      "The cost for an order of 126 widgets is $42800.\n",
      "The cost for an order of 150 widgets is $50000.\n",
      "The cost for an order of 186 widgets is $60800.\n",
      "The cost for an order of 200 widgets is $35000.\n",
      "The cost for an order of 216 widgets is $69000.\n",
      "The cost for an order of 248 widgets is $77000.\n"
     ]
    }
   ],
   "source": [
    "remainder_cost = 0\n",
    "quantities = [84, 100, 126, 150, 186, 200, 216, 248]\n",
    "for i in range (0,len(quantities)):\n",
    "    if quantities[i]<= 100:\n",
    "        cost = quantities[i] * 350\n",
    "    elif quantities[i]<= 200 and quantities[i]> 100:\n",
    "        remainder_cost = (quantities[i] % 100) * 300\n",
    "        cost = 100 * 350 + remainder_cost\n",
    "    elif quantities[i] > 200:\n",
    "        remainder_cost = (quantities[i] % 100) * 250\n",
    "        cost = 100 * 350 + 100 * 300 + remainder_cost\n",
    "    print(\"The cost for an order of \",quantities[i], \" widgets is $\",cost, \".\",sep=\"\")"
   ]
  },
  {
   "cell_type": "markdown",
   "id": "f6a55d07",
   "metadata": {},
   "source": [
    "### Problem 8: Adding Matrices"
   ]
  },
  {
   "cell_type": "code",
   "execution_count": 21,
   "id": "afebb9b3",
   "metadata": {
    "scrolled": true
   },
   "outputs": [
    {
     "name": "stdout",
     "output_type": "stream",
     "text": [
      "[48, 72, 71, 43, 72]\n",
      "[65, 65, 65, 33, 44]\n",
      "[73, 68, 55, 41, 41]\n"
     ]
    }
   ],
   "source": [
    "A = [[13, 43, 28, 22, 41],\n",
    "     [17, 39, 46, 16, 21],\n",
    "     [41, 34, 31, 25, 14]]\n",
    "B = [[35, 29, 43, 21, 31],\n",
    "     [48, 26, 19, 17, 23],\n",
    "     [32, 34, 24, 16, 27]]\n",
    "\n",
    "AplusB =[[0,0,0,0,0],[0,0,0,0,0],[0,0,0,0,0]]\n",
    "\n",
    "for i in range(0,3):\n",
    "    for j in range (0,5):\n",
    "        AplusB[i][j] = A[i][j] + B[i][j] \n",
    "\n",
    "for i in range(0,3):\n",
    "        print(AplusB[i]) \n"
   ]
  }
 ],
 "metadata": {
  "kernelspec": {
   "display_name": "Python 3 (ipykernel)",
   "language": "python",
   "name": "python3"
  },
  "language_info": {
   "codemirror_mode": {
    "name": "ipython",
    "version": 3
   },
   "file_extension": ".py",
   "mimetype": "text/x-python",
   "name": "python",
   "nbconvert_exporter": "python",
   "pygments_lexer": "ipython3",
   "version": "3.9.12"
  }
 },
 "nbformat": 4,
 "nbformat_minor": 5
}
