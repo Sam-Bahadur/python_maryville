{
 "cells": [
  {
   "cell_type": "markdown",
   "id": "e8faa5ed",
   "metadata": {},
   "source": [
    "# DSCI 503 - Homework 05\n",
    "### Pradeep K Timsina"
   ]
  },
  {
   "cell_type": "markdown",
   "id": "e676e28f",
   "metadata": {},
   "source": [
    "### Problem 1: Working with 2D Arrays\n"
   ]
  },
  {
   "cell_type": "code",
   "execution_count": 1,
   "id": "2c4194df",
   "metadata": {},
   "outputs": [],
   "source": [
    "import numpy as np\n",
    "import math\n",
    "import matplotlib.pyplot as plt\n",
    "import pandas as pd "
   ]
  },
  {
   "cell_type": "code",
   "execution_count": 2,
   "id": "36b3c656",
   "metadata": {
    "scrolled": true
   },
   "outputs": [
    {
     "name": "stdout",
     "output_type": "stream",
     "text": [
      "[[4.17 7.2  0.   3.02 1.47 0.92 1.86 3.46]\n",
      " [3.97 5.39 4.19 6.85 2.04 8.78 0.27 6.7 ]\n",
      " [4.17 5.59 1.4  1.98 8.01 9.68 3.13 6.92]\n",
      " [8.76 8.95 0.85 0.39 1.7  8.78 0.98 4.21]\n",
      " [9.58 5.33 6.92 3.16 6.87 8.35 0.18 7.5 ]]\n"
     ]
    }
   ],
   "source": [
    "np.random.seed(1)\n",
    "z= np.random.uniform(low=0, high=10, size=(5,8))\n",
    "z=z.round(2)\n",
    "print(z)"
   ]
  },
  {
   "cell_type": "code",
   "execution_count": 3,
   "id": "ab2aa254",
   "metadata": {
    "scrolled": false
   },
   "outputs": [
    {
     "name": "stdout",
     "output_type": "stream",
     "text": [
      " Row 3: \t  [4.17 5.59 1.4  1.98 8.01 9.68 3.13 6.92]\n",
      " Column 6:\t  [0.92 8.78 9.68 8.78 8.35]\n"
     ]
    }
   ],
   "source": [
    "print(\" Row 3: \\t \", z[2 , :])\n",
    "print(\" Column 6:\\t \",z[ : ,5])"
   ]
  },
  {
   "cell_type": "code",
   "execution_count": 4,
   "id": "fae44e0b",
   "metadata": {
    "scrolled": true
   },
   "outputs": [
    {
     "name": "stdout",
     "output_type": "stream",
     "text": [
      "Row Sums:\t [22.1  38.19 40.88 34.62 47.89]\n",
      "Column Sums:\t [30.65 32.46 13.36 15.4  20.09 36.51  6.42 28.79]\n",
      "Array Sums:\t 183.68\n"
     ]
    }
   ],
   "source": [
    "print(\"Row Sums:\\t\",np.sum(z,axis = 1))\n",
    "print(\"Column Sums:\\t\",np.sum(z,axis = 0))\n",
    "print(\"Array Sums:\\t\",np.sum(z))"
   ]
  },
  {
   "cell_type": "markdown",
   "id": "29d1e567",
   "metadata": {},
   "source": [
    "### Problem 2: Reshaping and Stacking Arrays"
   ]
  },
  {
   "cell_type": "code",
   "execution_count": 5,
   "id": "65328ab8",
   "metadata": {},
   "outputs": [],
   "source": [
    "np.random.seed(1)\n",
    "x1=np.random.normal(50,10, size=1000)\n",
    "x2=np.random.normal(20,5, size=1000)\n",
    "x3=np.random.normal(100,30, size=1000)\n",
    "x4=np.random.normal(10,2, size=1000)\n",
    "x1= x1.reshape(1000,1)\n",
    "x2= x2.reshape(1000,1)\n",
    "x3= x3.reshape(1000,1)\n",
    "x4= x4.reshape(1000,1)\n",
    "x = np.hstack([x1,x2,x3,x4])\n",
    "x = np.round(x,2)"
   ]
  },
  {
   "cell_type": "code",
   "execution_count": 6,
   "id": "ed7a6652",
   "metadata": {
    "scrolled": false
   },
   "outputs": [
    {
     "name": "stdout",
     "output_type": "stream",
     "text": [
      "[[ 66.24  19.23 114.69   9.85]\n",
      " [ 43.88   7.84 107.16  10.42]\n",
      " [ 44.72  22.54  86.56  11.97]\n",
      " [ 39.27  18.38  81.68  12.87]\n",
      " [ 58.65  12.44  39.1   11.06]\n",
      " [ 26.98  15.64 118.24   9.26]]\n"
     ]
    }
   ],
   "source": [
    "print(x[:6])"
   ]
  },
  {
   "cell_type": "markdown",
   "id": "ccca30c1",
   "metadata": {},
   "source": [
    "### Problem 3: Standardization"
   ]
  },
  {
   "cell_type": "code",
   "execution_count": 7,
   "id": "4682f193",
   "metadata": {
    "scrolled": true
   },
   "outputs": [
    {
     "name": "stdout",
     "output_type": "stream",
     "text": [
      "Column means:\t\t\t [50.39 20.14 99.33 10.01]\n",
      "Column Standard deviation:\t [ 9.81  5.15 29.15  2.02]\n"
     ]
    }
   ],
   "source": [
    "column_mean =np.mean(x,axis=0) \n",
    "column_std =np.std(x,axis=0) \n",
    "print(\"Column means:\\t\\t\\t\",np.round(column_mean,2))\n",
    "print(\"Column Standard deviation:\\t\",np.round(column_std,2))"
   ]
  },
  {
   "cell_type": "code",
   "execution_count": 8,
   "id": "d31b9289",
   "metadata": {},
   "outputs": [
    {
     "name": "stdout",
     "output_type": "stream",
     "text": [
      "Column means:\t\t\t [-0. -0. -0. -0.]\n",
      "Column Standard deviation:\t [1. 1. 1. 1.]\n"
     ]
    }
   ],
   "source": [
    "w = (x - column_mean)/column_std\n",
    "column_mean_w =np.mean(w,axis=0) \n",
    "column_std_w =np.std(w,axis=0) \n",
    "print(\"Column means:\\t\\t\\t\",np.round(column_mean_w,2))\n",
    "print(\"Column Standard deviation:\\t\",np.round(column_std_w,2))"
   ]
  },
  {
   "cell_type": "markdown",
   "id": "ef7a1865",
   "metadata": {},
   "source": [
    "### Problem 4: Load Auto MPG Dataset"
   ]
  },
  {
   "cell_type": "code",
   "execution_count": 9,
   "id": "a319eb09",
   "metadata": {
    "scrolled": true
   },
   "outputs": [
    {
     "data": {
      "text/html": [
       "<div>\n",
       "<style scoped>\n",
       "    .dataframe tbody tr th:only-of-type {\n",
       "        vertical-align: middle;\n",
       "    }\n",
       "\n",
       "    .dataframe tbody tr th {\n",
       "        vertical-align: top;\n",
       "    }\n",
       "\n",
       "    .dataframe thead th {\n",
       "        text-align: right;\n",
       "    }\n",
       "</style>\n",
       "<table border=\"1\" class=\"dataframe\">\n",
       "  <thead>\n",
       "    <tr style=\"text-align: right;\">\n",
       "      <th></th>\n",
       "      <th>mpg</th>\n",
       "      <th>cyl</th>\n",
       "      <th>wt</th>\n",
       "      <th>region</th>\n",
       "      <th>model</th>\n",
       "    </tr>\n",
       "  </thead>\n",
       "  <tbody>\n",
       "    <tr>\n",
       "      <th>0</th>\n",
       "      <td>27.2</td>\n",
       "      <td>4</td>\n",
       "      <td>3190</td>\n",
       "      <td>eur</td>\n",
       "      <td>peugeot 504</td>\n",
       "    </tr>\n",
       "    <tr>\n",
       "      <th>1</th>\n",
       "      <td>32.8</td>\n",
       "      <td>4</td>\n",
       "      <td>1985</td>\n",
       "      <td>asia</td>\n",
       "      <td>mazda glc deluxe</td>\n",
       "    </tr>\n",
       "    <tr>\n",
       "      <th>2</th>\n",
       "      <td>18.1</td>\n",
       "      <td>6</td>\n",
       "      <td>3410</td>\n",
       "      <td>usa</td>\n",
       "      <td>amc concord d/l</td>\n",
       "    </tr>\n",
       "    <tr>\n",
       "      <th>3</th>\n",
       "      <td>17.5</td>\n",
       "      <td>8</td>\n",
       "      <td>4080</td>\n",
       "      <td>usa</td>\n",
       "      <td>dodge magnum xe</td>\n",
       "    </tr>\n",
       "    <tr>\n",
       "      <th>4</th>\n",
       "      <td>25.4</td>\n",
       "      <td>5</td>\n",
       "      <td>3530</td>\n",
       "      <td>eur</td>\n",
       "      <td>mercedes benz 300d</td>\n",
       "    </tr>\n",
       "    <tr>\n",
       "      <th>5</th>\n",
       "      <td>31.0</td>\n",
       "      <td>4</td>\n",
       "      <td>1773</td>\n",
       "      <td>asia</td>\n",
       "      <td>toyota corolla 1200</td>\n",
       "    </tr>\n",
       "    <tr>\n",
       "      <th>6</th>\n",
       "      <td>27.4</td>\n",
       "      <td>4</td>\n",
       "      <td>2670</td>\n",
       "      <td>usa</td>\n",
       "      <td>amc spirit dl</td>\n",
       "    </tr>\n",
       "    <tr>\n",
       "      <th>7</th>\n",
       "      <td>39.1</td>\n",
       "      <td>4</td>\n",
       "      <td>1755</td>\n",
       "      <td>asia</td>\n",
       "      <td>toyota starlet</td>\n",
       "    </tr>\n",
       "    <tr>\n",
       "      <th>8</th>\n",
       "      <td>34.3</td>\n",
       "      <td>4</td>\n",
       "      <td>2188</td>\n",
       "      <td>eur</td>\n",
       "      <td>audi 4000</td>\n",
       "    </tr>\n",
       "    <tr>\n",
       "      <th>9</th>\n",
       "      <td>30.0</td>\n",
       "      <td>4</td>\n",
       "      <td>2155</td>\n",
       "      <td>usa</td>\n",
       "      <td>buick opel isuzu deluxe</td>\n",
       "    </tr>\n",
       "  </tbody>\n",
       "</table>\n",
       "</div>"
      ],
      "text/plain": [
       "    mpg  cyl    wt region                    model\n",
       "0  27.2    4  3190    eur              peugeot 504\n",
       "1  32.8    4  1985   asia         mazda glc deluxe\n",
       "2  18.1    6  3410    usa          amc concord d/l\n",
       "3  17.5    8  4080    usa          dodge magnum xe\n",
       "4  25.4    5  3530    eur       mercedes benz 300d\n",
       "5  31.0    4  1773   asia      toyota corolla 1200\n",
       "6  27.4    4  2670    usa            amc spirit dl\n",
       "7  39.1    4  1755   asia           toyota starlet\n",
       "8  34.3    4  2188    eur                audi 4000\n",
       "9  30.0    4  2155    usa  buick opel isuzu deluxe"
      ]
     },
     "execution_count": 9,
     "metadata": {},
     "output_type": "execute_result"
    }
   ],
   "source": [
    "auto = pd.read_csv(\"auto_mpg.txt\", sep='\\t') \n",
    "auto.head(10)"
   ]
  },
  {
   "cell_type": "code",
   "execution_count": 10,
   "id": "4cb414f4",
   "metadata": {
    "scrolled": true
   },
   "outputs": [
    {
     "name": "stdout",
     "output_type": "stream",
     "text": [
      "(398, 5)\n"
     ]
    }
   ],
   "source": [
    "print(auto.shape)"
   ]
  },
  {
   "cell_type": "code",
   "execution_count": 11,
   "id": "27a81a6b",
   "metadata": {
    "scrolled": true
   },
   "outputs": [
    {
     "name": "stderr",
     "output_type": "stream",
     "text": [
      "C:\\Users\\pradi\\AppData\\Local\\Temp\\ipykernel_9784\\2601072796.py:1: FutureWarning: Dropping of nuisance columns in DataFrame reductions (with 'numeric_only=None') is deprecated; in a future version this will raise TypeError.  Select only valid columns before calling the reduction.\n",
      "  auto.mean()\n"
     ]
    },
    {
     "data": {
      "text/plain": [
       "mpg      23.514573\n",
       "cyl       5.454774\n",
       "wt     2970.424623\n",
       "dtype: float64"
      ]
     },
     "execution_count": 11,
     "metadata": {},
     "output_type": "execute_result"
    }
   ],
   "source": [
    "auto.mean()"
   ]
  },
  {
   "cell_type": "markdown",
   "id": "371e7744",
   "metadata": {},
   "source": [
    "### Problem 5: Regional Counts and Means"
   ]
  },
  {
   "cell_type": "code",
   "execution_count": 12,
   "id": "147445d4",
   "metadata": {},
   "outputs": [
    {
     "name": "stdout",
     "output_type": "stream",
     "text": [
      "['eur' 'asia' 'usa']\n",
      "3\n"
     ]
    }
   ],
   "source": [
    "regions = auto.region.unique()\n",
    "print(regions)\n",
    "print(len(regions))"
   ]
  },
  {
   "cell_type": "code",
   "execution_count": 13,
   "id": "893a9faa",
   "metadata": {},
   "outputs": [
    {
     "name": "stdout",
     "output_type": "stream",
     "text": [
      "Number of cars manufactured in Asia:\t 79\n",
      "Number of cars manufactured in Europe:\t 70\n",
      "Number of cars manufactured in USA:\t 249\n"
     ]
    }
   ],
   "source": [
    "asia_auto = auto.loc[:,'region'] == 'asia'\n",
    "eur_auto = auto.loc[:,'region'] == 'eur'\n",
    "usa_auto = auto.loc[:,'region'] == 'usa'\n",
    "#print(auto.loc[asia_auto,:])\n",
    "print(\"Number of cars manufactured in Asia:\\t\",len(auto.loc[asia_auto,:]))\n",
    "print(\"Number of cars manufactured in Europe:\\t\",len(auto.loc[eur_auto,:]))\n",
    "print(\"Number of cars manufactured in USA:\\t\",len(auto.loc[usa_auto,:]))\n"
   ]
  },
  {
   "cell_type": "code",
   "execution_count": 14,
   "id": "ac87bd3c",
   "metadata": {},
   "outputs": [
    {
     "data": {
      "text/html": [
       "<div>\n",
       "<style scoped>\n",
       "    .dataframe tbody tr th:only-of-type {\n",
       "        vertical-align: middle;\n",
       "    }\n",
       "\n",
       "    .dataframe tbody tr th {\n",
       "        vertical-align: top;\n",
       "    }\n",
       "\n",
       "    .dataframe thead th {\n",
       "        text-align: right;\n",
       "    }\n",
       "</style>\n",
       "<table border=\"1\" class=\"dataframe\">\n",
       "  <thead>\n",
       "    <tr style=\"text-align: right;\">\n",
       "      <th></th>\n",
       "      <th>mpg</th>\n",
       "      <th>cyl</th>\n",
       "      <th>wt</th>\n",
       "    </tr>\n",
       "  </thead>\n",
       "  <tbody>\n",
       "    <tr>\n",
       "      <th>eur</th>\n",
       "      <td>30.450633</td>\n",
       "      <td>4.101266</td>\n",
       "      <td>2221.227848</td>\n",
       "    </tr>\n",
       "    <tr>\n",
       "      <th>asia</th>\n",
       "      <td>27.891429</td>\n",
       "      <td>4.157143</td>\n",
       "      <td>2423.300000</td>\n",
       "    </tr>\n",
       "    <tr>\n",
       "      <th>usa</th>\n",
       "      <td>20.083534</td>\n",
       "      <td>6.248996</td>\n",
       "      <td>3361.931727</td>\n",
       "    </tr>\n",
       "  </tbody>\n",
       "</table>\n",
       "</div>"
      ],
      "text/plain": [
       "            mpg       cyl           wt\n",
       "eur   30.450633  4.101266  2221.227848\n",
       "asia  27.891429  4.157143  2423.300000\n",
       "usa   20.083534  6.248996  3361.931727"
      ]
     },
     "execution_count": 14,
     "metadata": {},
     "output_type": "execute_result"
    }
   ],
   "source": [
    "asia_means = auto.loc[asia_auto, ['mpg','cyl','wt']].mean()\n",
    "\n",
    "eur_means = auto.loc[eur_auto, ['mpg','cyl','wt']].mean()\n",
    "\n",
    "usa_means = auto.loc[usa_auto, ['mpg','cyl','wt']].mean()\n",
    "\n",
    "mean_df = pd.DataFrame({\n",
    "    'mpg': [asia_means[0], eur_means[0], usa_means[0]],\n",
    "    'cyl':[asia_means[1], eur_means[1], usa_means[1]],\n",
    "    'wt':[asia_means[2], eur_means[2], usa_means[2]],\n",
    "}, index= regions)\n",
    "\n",
    "mean_df"
   ]
  },
  {
   "cell_type": "markdown",
   "id": "99937c00",
   "metadata": {},
   "source": [
    "### Problem 6: Average Weight and MPG by Region"
   ]
  },
  {
   "cell_type": "code",
   "execution_count": 15,
   "id": "e7ec2cf0",
   "metadata": {
    "scrolled": true
   },
   "outputs": [
    {
     "data": {
      "image/png": "[encoded data removed]",
      "text/plain": [
       "<Figure size 576x288 with 2 Axes>"
      ]
     },
     "metadata": {
      "needs_background": "light"
     },
     "output_type": "display_data"
    }
   ],
   "source": [
    "colors1 = ['aquamarine','cyan','darkmagenta']\n",
    "plt.figure(figsize=[8,4])\n",
    "plt.subplot(1,2,1)\n",
    "plt.bar(x=regions, height=mean_df.loc[:,'mpg'], color=colors1, edgecolor='black')\n",
    "plt.xlabel('Region')\n",
    "plt.ylabel('Average MPG')\n",
    "plt.title('Average MPG by Region')\n",
    "plt.subplot(1,2,2)\n",
    "plt.bar(x=regions, height=mean_df.loc[:,'wt'], color=colors1, edgecolor='black')\n",
    "plt.xlabel('Region')\n",
    "plt.ylabel('Average Weight in Pounds')\n",
    "plt.title('Average Weight by Region')\n",
    "plt.tight_layout()\n",
    "plt.show()\n"
   ]
  },
  {
   "cell_type": "markdown",
   "id": "b3c1921f",
   "metadata": {},
   "source": [
    "### Problem 7: Relationship between Weight and Miles Per Gallon"
   ]
  },
  {
   "cell_type": "code",
   "execution_count": 16,
   "id": "c00910b3",
   "metadata": {
    "scrolled": true
   },
   "outputs": [
    {
     "data": {
      "image/png": "[encoded data removed]",
      "text/plain": [
       "<Figure size 864x288 with 3 Axes>"
      ]
     },
     "metadata": {
      "needs_background": "light"
     },
     "output_type": "display_data"
    }
   ],
   "source": [
    "plt.figure(figsize=[12,4])\n",
    "for reg in range(0,len(regions)):\n",
    "    plt.subplot(1,3,reg+1)\n",
    "    current_region_data = auto.loc[auto.loc[:,'region'] == regions[reg],:]                              \n",
    "    plt.scatter(x=current_region_data.loc[:,['wt']], y=current_region_data.loc[:,['mpg']],color=colors1[reg],alpha = 0.8,edgecolor='k')\n",
    "    plt.xlabel('Weight in Pounds')\n",
    "    plt.ylabel('Miles Per Gallon')\n",
    "    plt.title('Weight vs MPG (' + regions[reg] + ')')\n",
    "    plt.ylim([0,50])\n",
    "    plt.xlim([1200,5000])\n",
    "plt.tight_layout()\n",
    "plt.show()\n",
    "    \n",
    "    "
   ]
  },
  {
   "cell_type": "markdown",
   "id": "ec238716",
   "metadata": {},
   "source": [
    "### Problem 8: Cylinder Distribution by Region"
   ]
  },
  {
   "cell_type": "code",
   "execution_count": 17,
   "id": "279355bf",
   "metadata": {
    "scrolled": false
   },
   "outputs": [
    {
     "data": {
      "text/plain": [
       "array([3, 4, 5, 6, 8], dtype=int64)"
      ]
     },
     "execution_count": 17,
     "metadata": {},
     "output_type": "execute_result"
    }
   ],
   "source": [
    "cyl_values = np.unique(auto.cyl)\n",
    "cyl_values"
   ]
  },
  {
   "cell_type": "code",
   "execution_count": 18,
   "id": "2c2ba87f",
   "metadata": {},
   "outputs": [
    {
     "name": "stdout",
     "output_type": "stream",
     "text": [
      "region  asia  eur  usa\n",
      "cyl                   \n",
      "3          4    0    0\n",
      "4         69   63   72\n",
      "5          0    3    0\n",
      "6          6    4   74\n",
      "8          0    0  103\n"
     ]
    }
   ],
   "source": [
    "cyl_counts_by_region = pd.crosstab(auto.cyl,auto.region)\n",
    "print(cyl_counts_by_region)"
   ]
  },
  {
   "cell_type": "code",
   "execution_count": 19,
   "id": "938bf778",
   "metadata": {},
   "outputs": [
    {
     "data": {
      "image/png": "[encoded data removed]",
      "text/plain": [
       "<Figure size 432x288 with 1 Axes>"
      ]
     },
     "metadata": {
      "needs_background": "light"
     },
     "output_type": "display_data"
    }
   ],
   "source": [
    "cyl_props_by_region = cyl_counts_by_region / np.sum(cyl_counts_by_region,axis = 0)\n",
    "bar_bottoms = np.cumsum(cyl_props_by_region) - cyl_props_by_region\n",
    "colors2 = [\"purple\",\"magenta\",\"blue\",\"white\",'cyan']\n",
    "plt.figure(figsize=[6,4])\n",
    "\n",
    "for itrn in range (0, len(cyl_props_by_region)):\n",
    "    plt.bar(x = regions, height = cyl_props_by_region.iloc[itrn, : ], label = cyl_values[itrn], \n",
    "            color = colors2[itrn], edgecolor = 'black', bottom = bar_bottoms.iloc[itrn, :])\n",
    "    plt.legend(bbox_to_anchor=(1.20, 1.0))\n",
    "    plt.title('Distribution of Cylinder Numbers by Region')\n",
    "    plt.xlabel('Region')\n",
    "    plt.ylabel('Proportion')\n",
    "plt.show()\n"
   ]
  }
 ],
 "metadata": {
  "kernelspec": {
   "display_name": "Python 3 (ipykernel)",
   "language": "python",
   "name": "python3"
  },
  "language_info": {
   "codemirror_mode": {
    "name": "ipython",
    "version": 3
   },
   "file_extension": ".py",
   "mimetype": "text/x-python",
   "name": "python",
   "nbconvert_exporter": "python",
   "pygments_lexer": "ipython3",
   "version": "3.9.12"
  }
 },
 "nbformat": 4,
 "nbformat_minor": 5
}
