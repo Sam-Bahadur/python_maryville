{
 "cells": [
  {
   "cell_type": "markdown",
   "id": "5a25db1b",
   "metadata": {},
   "source": [
    "# DSCI 503 - Homework 03\n",
    "### Pradeep Kiran Timsina"
   ]
  },
  {
   "cell_type": "markdown",
   "id": "594887ab",
   "metadata": {},
   "source": [
    "### Problem 1: Dot Product"
   ]
  },
  {
   "cell_type": "code",
   "execution_count": 1,
   "id": "315821e9",
   "metadata": {},
   "outputs": [],
   "source": [
    "def dot_product(x,y):\n",
    "    summ=0\n",
    "    lnth = len(x)\n",
    "    for ite in range (0,lnth):\n",
    "        summ=summ + (x[ite] * y[ite])\n",
    "        \n",
    "    return(summ)"
   ]
  },
  {
   "cell_type": "code",
   "execution_count": 2,
   "id": "72d01d80",
   "metadata": {},
   "outputs": [
    {
     "name": "stdout",
     "output_type": "stream",
     "text": [
      " The dot product of v1 and v2 is 16220.\n"
     ]
    }
   ],
   "source": [
    "v1 = [38, 9, 40, 34, 20, 16, 42, 36, 12, 1, 23, 46, 31, 19, 30, 33, 16, 43, 24, 41]\n",
    "v2 = [43, 13, 35, 14, 26, 3, 36, 15, 42, 44, 45, 20, 17, 6, 47, 40, 38, 41, 31, 24]\n",
    "print(\" The dot product of v1 and v2 is \",dot_product(v1,v2),\".\",sep=\"\")"
   ]
  },
  {
   "cell_type": "markdown",
   "id": "1fa52aed",
   "metadata": {},
   "source": [
    "### Problem 2: Amortization "
   ]
  },
  {
   "cell_type": "code",
   "execution_count": 3,
   "id": "d1167419",
   "metadata": {},
   "outputs": [],
   "source": [
    "def count_payments(amount,rate,pmt):\n",
    "    balance= amount\n",
    "    pmt_no = 0\n",
    "    while(balance>0):\n",
    "        new_blnc = (balance * (1 + rate)) - pmt\n",
    "        balance= round(new_blnc,2)\n",
    "        pmt_no = pmt_no +1\n",
    "        #print(balance)\n",
    "    return(pmt_no)\n",
    "    "
   ]
  },
  {
   "cell_type": "code",
   "execution_count": 4,
   "id": "9eedbfbc",
   "metadata": {
    "scrolled": true
   },
   "outputs": [
    {
     "name": "stdout",
     "output_type": "stream",
     "text": [
      "351 monthly payments of $850 would be required.\n",
      "312 monthly payments of $900 would be required.\n",
      "281 monthly payments of $950 would be required.\n",
      "256 monthly payments of $1000 would be required.\n",
      "236 monthly payments of $1050 would be required.\n"
     ]
    }
   ],
   "source": [
    "for pmnt in range(850, 1100, 50):\n",
    "    print(count_payments(160000,0.004,pmnt),\" monthly payments of $\",pmnt,\" would be required.\",sep=\"\")\n"
   ]
  },
  {
   "cell_type": "code",
   "execution_count": 5,
   "id": "6070dab1",
   "metadata": {
    "scrolled": true
   },
   "outputs": [
    {
     "name": "stdout",
     "output_type": "stream",
     "text": [
      "308 monthly payments of $850 would be required.\n",
      "279 monthly payments of $900 would be required.\n",
      "255 monthly payments of $950 would be required.\n",
      "235 monthly payments of $1000 would be required.\n",
      "219 monthly payments of $1050 would be required.\n"
     ]
    }
   ],
   "source": [
    "for pmnt in range(850, 1100, 50):\n",
    "    print(count_payments(160000,0.0035,pmnt),\" monthly payments of $\",pmnt,\" would be required.\",sep=\"\")\n"
   ]
  },
  {
   "cell_type": "markdown",
   "id": "ef8066d1",
   "metadata": {},
   "source": [
    "### Problem 3: Minimum"
   ]
  },
  {
   "cell_type": "code",
   "execution_count": 6,
   "id": "fd88c7cb",
   "metadata": {},
   "outputs": [],
   "source": [
    "def minimum(x):\n",
    "    min_value= x[0]\n",
    "    for itrn in range(1,len(x)):\n",
    "        if x[itrn]<min_value:\n",
    "            min_value = x[itrn]        \n",
    "    return(min_value)\n",
    "    "
   ]
  },
  {
   "cell_type": "code",
   "execution_count": 7,
   "id": "dc1fd3ed",
   "metadata": {},
   "outputs": [
    {
     "name": "stdout",
     "output_type": "stream",
     "text": [
      "the minimum of list1 is 4.1\n",
      "the minimum of list2 is 3.4\n",
      "the minimum of list3 is Chicago\n"
     ]
    }
   ],
   "source": [
    "list1 = [9.8, 7.4, 5.6, 4.8, 4.8, 5.3, 4.1, 9.6, 5.4]\n",
    "list2 = [3.4, 7.6, 8.7, 7.5, 9.8, 7.5, 6.7, 8.7, 8.4]\n",
    "list3 = ['St. Louis', 'Kansas City', 'Chicago', 'Little Rock', 'Omaha']\n",
    "print(\"the minimum of list1 is\",minimum(list1))\n",
    "print(\"the minimum of list2 is\",minimum(list2))\n",
    "print(\"the minimum of list3 is\",minimum(list3))"
   ]
  },
  {
   "cell_type": "markdown",
   "id": "d9a21606",
   "metadata": {},
   "source": [
    "### Problem 4: Argmin"
   ]
  },
  {
   "cell_type": "code",
   "execution_count": 8,
   "id": "a5cb2ac8",
   "metadata": {},
   "outputs": [],
   "source": [
    "def argmin(x):\n",
    "    min_value= x[0]\n",
    "    min_index = 0\n",
    "    for itrn in range(1,len(x)):\n",
    "        if x[itrn]<min_value:\n",
    "            min_value = x[itrn]\n",
    "            min_index = itrn\n",
    "    return(min_index)"
   ]
  },
  {
   "cell_type": "code",
   "execution_count": 9,
   "id": "f76698f3",
   "metadata": {},
   "outputs": [
    {
     "name": "stdout",
     "output_type": "stream",
     "text": [
      "the minimum index of list1 is 6\n",
      "the minimum index of list2 is 0\n",
      "the minimum index of list3 is 2\n"
     ]
    }
   ],
   "source": [
    "list1 = [9.8, 7.4, 5.6, 4.8, 4.8, 5.3, 4.1, 9.6, 5.4]\n",
    "list2 = [3.4, 7.6, 8.7, 7.5, 9.8, 7.5, 6.7, 8.7, 8.4]\n",
    "list3 = ['St. Louis', 'Kansas City', 'Chicago', 'Little Rock', 'Omaha']\n",
    "print(\"the minimum index of list1 is\",argmin(list1))\n",
    "print(\"the minimum index of list2 is\",argmin(list2))\n",
    "print(\"the minimum index of list3 is\",argmin(list3))"
   ]
  },
  {
   "cell_type": "markdown",
   "id": "e4658d82",
   "metadata": {},
   "source": [
    "### Problem 5: Find Smallest Elements"
   ]
  },
  {
   "cell_type": "code",
   "execution_count": 10,
   "id": "a7220bae",
   "metadata": {},
   "outputs": [],
   "source": [
    "def find_smallest(x, n=None):\n",
    "    sorted_list =sorted(x)\n",
    "    if n is None:\n",
    "        return sorted_list[0]\n",
    "    elif n >= len(sorted_list):\n",
    "        return x\n",
    "    elif n > 0:\n",
    "        smallest_list = []\n",
    "        for i in range(n):\n",
    "            smallest_list.append(sorted_list[i])\n",
    "        return smallest_list\n",
    "    else:\n",
    "        exit"
   ]
  },
  {
   "cell_type": "code",
   "execution_count": 11,
   "id": "ac5cacfb",
   "metadata": {
    "scrolled": true
   },
   "outputs": [
    {
     "name": "stdout",
     "output_type": "stream",
     "text": [
      "17\n",
      "[17]\n",
      "[17, 28]\n",
      "[17, 28, 28, 39, 53]\n",
      "[39, 74, 28, 64, 17, 28, 54, 53]\n"
     ]
    }
   ],
   "source": [
    "my_list = [39, 74, 28, 64, 17, 28, 54, 53 ]\n",
    "print(find_smallest(my_list))\n",
    "print(find_smallest(my_list, 1))\n",
    "print(find_smallest(my_list, 2))\n",
    "print(find_smallest(my_list, 5))\n",
    "print(find_smallest(my_list, 12))"
   ]
  },
  {
   "cell_type": "code",
   "execution_count": 12,
   "id": "987f45d8",
   "metadata": {
    "scrolled": true
   },
   "outputs": [
    {
     "name": "stdout",
     "output_type": "stream",
     "text": [
      "[39, 74, 28, 64, 17, 28, 54, 53]\n"
     ]
    }
   ],
   "source": [
    "print(my_list)"
   ]
  },
  {
   "cell_type": "markdown",
   "id": "34970d0f",
   "metadata": {},
   "source": [
    "### Problem 6: Find Unique Elements"
   ]
  },
  {
   "cell_type": "code",
   "execution_count": 13,
   "id": "55b98e9e",
   "metadata": {},
   "outputs": [],
   "source": [
    "def unique(mylist):\n",
    "    mylist.sort()\n",
    "    new_list = []\n",
    "    for i in mylist:\n",
    "        if i not in new_list:\n",
    "            new_list.append(i)\n",
    "    \n",
    "    return (new_list)"
   ]
  },
  {
   "cell_type": "code",
   "execution_count": 14,
   "id": "b25d72f1",
   "metadata": {
    "scrolled": true
   },
   "outputs": [
    {
     "name": "stdout",
     "output_type": "stream",
     "text": [
      "[12, 14, 16, 19, 23]\n",
      "['bat', 'cat', 'dog', 'frog']\n"
     ]
    }
   ],
   "source": [
    "int_list = [23, 16, 23, 12, 14, 23, 12, 19, 19]\n",
    "str_list = ['cat', 'dog', 'dog', 'cat', 'bat', 'frog', 'dog', 'frog']\n",
    "print(unique(int_list))\n",
    "print(unique(str_list))"
   ]
  },
  {
   "cell_type": "markdown",
   "id": "663a411c",
   "metadata": {},
   "source": [
    "### Problem 7: Frequency Distribution"
   ]
  },
  {
   "cell_type": "code",
   "execution_count": 15,
   "id": "f5ed1fc7",
   "metadata": {},
   "outputs": [],
   "source": [
    "def freq_dist(x):\n",
    "    unique_list = unique(x)\n",
    "    count = 0\n",
    "    count_list = []\n",
    "    for itr_uniq in range (0,len(unique_list)):\n",
    "        for itr_x in range(0,len(x)):\n",
    "            if (unique_list[itr_uniq]==x[itr_x]):\n",
    "                count = count + 1\n",
    "        count_list.append(count)        \n",
    "        count = 0\n",
    "    print(\"unique values:  \",unique_list)\n",
    "    print(\"freq:\\t\\t\",count_list)"
   ]
  },
  {
   "cell_type": "code",
   "execution_count": 16,
   "id": "0a8b6f92",
   "metadata": {
    "scrolled": true
   },
   "outputs": [
    {
     "name": "stdout",
     "output_type": "stream",
     "text": [
      "unique values:   ['A', 'B', 'C', 'D', 'F']\n",
      "freq:\t\t [6, 8, 5, 5, 3]\n"
     ]
    }
   ],
   "source": [
    "grades = ['A', 'D', 'A', 'C', 'B', 'F', 'A', 'D', 'C', \n",
    " 'B', 'F', 'A', 'C', 'B', 'A', 'B', 'B', 'C', \n",
    " 'B', 'F', 'D', 'D', 'A', 'C', 'B', 'B', 'D']\n",
    "freq_dist(grades)"
   ]
  },
  {
   "cell_type": "markdown",
   "id": "3696a589",
   "metadata": {},
   "source": [
    "### Problem 8: Weighed Means"
   ]
  },
  {
   "cell_type": "code",
   "execution_count": 17,
   "id": "ff4d3b7e",
   "metadata": {},
   "outputs": [],
   "source": [
    "def mean(x,w=None):\n",
    "    summ=0\n",
    "    summ_wt =0\n",
    "    if w==None:\n",
    "        return(sum(x)/len(x))\n",
    "    else:\n",
    "        for i in range(0,len(x)):\n",
    "            summ = summ + x[i] * w[i]\n",
    "            summ_wt = summ_wt + w[i]\n",
    "            return(summ/summ_wt)"
   ]
  },
  {
   "cell_type": "code",
   "execution_count": 18,
   "id": "3282b4c4",
   "metadata": {},
   "outputs": [
    {
     "name": "stdout",
     "output_type": "stream",
     "text": [
      "Standard Mean: 4.9\n",
      "Weighted Mean: 4.0\n"
     ]
    }
   ],
   "source": [
    "values = [4, 7, 3, 5, 2, 6, 8, 2, 4, 8]\n",
    "weights = [2, 1, 3, 1, 2, 3, 1, 4, 2, 1]\n",
    "print(\"Standard Mean:\",mean(values))\n",
    "print(\"Weighted Mean:\",mean(values,weights))"
   ]
  }
 ],
 "metadata": {
  "kernelspec": {
   "display_name": "Python 3 (ipykernel)",
   "language": "python",
   "name": "python3"
  },
  "language_info": {
   "codemirror_mode": {
    "name": "ipython",
    "version": 3
   },
   "file_extension": ".py",
   "mimetype": "text/x-python",
   "name": "python",
   "nbconvert_exporter": "python",
   "pygments_lexer": "ipython3",
   "version": "3.9.12"
  }
 },
 "nbformat": 4,
 "nbformat_minor": 5
}
